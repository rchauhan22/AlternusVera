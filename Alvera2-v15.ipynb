{
 "cells": [
  {
   "attachments": {},
   "cell_type": "markdown",
   "metadata": {},
   "source": [
    "## Team Dataminers:  Renato Cordeiro (012481378), Abhinaya Yelipeddi (012471472)\n",
    "\n",
    "### Project Alvera\n",
    "\n",
    "Objective: Create a model to detect fake news.\n",
    "\n",
    "Partial delivery (11/13): Dataset selection, Important features for model, Sentiment analysis\n",
    "Partial delivery (11/20): Dataset augmented, more features analysis\n",
    "\n",
    "#### 1. Data selection (Renato & Abhi)\n",
    "We acquired 4 datasets: FakeNewsCorpus, Liar Liar, Uber Reviews and PolitiFact (FakeNewsNet). \n",
    "\n",
    "- **[FakeNewsCorpus](https://github.com/several27/FakeNewsCorpus)**:\n",
    "We first decided to use the FakeNewsCorpus dataset since it is the larger one. In fact, after downloading it we faced the issue that it is so large (~30GB uncompressed) that it was not easy to work with it on a personal computer. So we split that single dataset into smaller files (of 1GB each) and start using it. After an initial analysis we found out that its content were very poluted, containing sometimes even html code inside it. We imagine that it must have appeared during the content scrapping by the dataset author. So, since Machine Learning/Data Science is all about the quality of the data, we decided to not use it this dataset anymore.\n",
    "\n",
    "- **[Uber Reviews](https://www.kaggle.com/purvank/uber-rider-reviews-dataset)**:\n",
    "We acquired a 1,300+ User ride reviews as an extra dataset connected to our project (URide, the Uber competitor). We intent to use that dataset later as an enrichment. But since it only has ~1,300 rows, we decided to use the Liar Liar one in the begining since it is a larger dataset and also has labels\n",
    "\n",
    "- **Liar Liar**:\n",
    "The William Yang Wang, \"Liar, Liar Pants on Fire\" dataset is a very good source for fake news analysis. It has several important data such as speaker, party affiliation and a truthness label ('true','mostly-true','half-true','barely-true','false','pants-fire'). It also has a good size (12,800+ entries, separated in 10,269 (training) + 1,284 (validation) + 1,283 (testing). We started tha Alvera project using this dataset and it is good. But as we defined more features to be analyzed (as \"headline\" - \"body\" relation), we needed a dataset with that missing data.\n",
    "\n",
    "- **[PolitiFact](https://github.com/KaiDMML/FakeNewsNet)**:\n",
    "FakeNewsNet provides a dataset that is not as large as Liar Liar, but it is very well formatted and has some data that we wanted such as headline. So, we will be using this dataset together with the Liar Liar.\n",
    "\n",
    "- **[Clickbait](https://github.com/bhargaviparanjape/clickbait/tree/master/dataset)**:\n",
    "In order to train the clickbait model, we acquired a specific dataset used by Chakraborty et al.(https://people.mpi-sws.org/~achakrab/papers/chakraborty_clickbait_asonam16.pdf) which have pre-classified headlines in clickbaits or not.\n",
    "\n",
    "\n",
    "#### 2. Important features for our Fake news model (Renato & Abhi)\n",
    "Our objective is to have a Fake News in the form of Y = AX where A is a vector of weights and X a vector of features. Therefore, we must first discover the best features to use in the model.\n",
    "\n",
    "Our initial hypothesis is that the following features contribute for the trust/fakeness of a text:\n",
    "- Sentiment  [Renato]\n",
    "- Words frequency (TF-IDF) [Abhi]\n",
    "- Stance (Headline x Body relation) [Abhi]\n",
    "- Source [Renato]\n",
    "- Party affiliation [Abhi]\n",
    "- Click bait headline  [Renato]\n",
    "\n",
    "Since that first hypothesis, we evolved the characteristics that we would like to analyze to become our features. Our final model is:\n",
    "\n",
    "![Fake News Features](fakenewsfeatures.png)"
   ]
  },
  {
   "cell_type": "markdown",
   "metadata": {},
   "source": [
    "## Loading PolitiFact data"
   ]
  },
  {
   "cell_type": "code",
   "execution_count": 1,
   "metadata": {},
   "outputs": [],
   "source": [
    "import warnings\n",
    "warnings.filterwarnings('ignore')\n",
    "from sklearn.exceptions import DataConversionWarning\n",
    "warnings.filterwarnings(action='ignore', category=DataConversionWarning)"
   ]
  },
  {
   "cell_type": "code",
   "execution_count": 2,
   "metadata": {},
   "outputs": [
    {
     "data": {
      "text/html": [
       "<div>\n",
       "<style scoped>\n",
       "    .dataframe tbody tr th:only-of-type {\n",
       "        vertical-align: middle;\n",
       "    }\n",
       "\n",
       "    .dataframe tbody tr th {\n",
       "        vertical-align: top;\n",
       "    }\n",
       "\n",
       "    .dataframe thead th {\n",
       "        text-align: right;\n",
       "    }\n",
       "</style>\n",
       "<table border=\"1\" class=\"dataframe\">\n",
       "  <thead>\n",
       "    <tr style=\"text-align: right;\">\n",
       "      <th></th>\n",
       "      <th>authors</th>\n",
       "      <th>canonical_link</th>\n",
       "      <th>images</th>\n",
       "      <th>source</th>\n",
       "      <th>text</th>\n",
       "      <th>title</th>\n",
       "      <th>url</th>\n",
       "      <th>veracity</th>\n",
       "    </tr>\n",
       "  </thead>\n",
       "  <tbody>\n",
       "    <tr>\n",
       "      <th>0</th>\n",
       "      <td>[Jack Shafer, Burgess Everett, Seung Min Kim, ...</td>\n",
       "      <td>http://www.politico.com/story/2016/09/zika-fun...</td>\n",
       "      <td>[http://static.politico.com/ae/2d/1a0119fa45b8...</td>\n",
       "      <td>http://politi.co</td>\n",
       "      <td>\"I would encourage our colleagues across the a...</td>\n",
       "      <td>McConnell punts budget vote to buy time for deal</td>\n",
       "      <td>http://politi.co/2cksDqD</td>\n",
       "      <td>1</td>\n",
       "    </tr>\n",
       "    <tr>\n",
       "      <th>1</th>\n",
       "      <td>[Colin Taylor, Grant Stern, Brett Bose, Natali...</td>\n",
       "      <td>http://occupydemocrats.com/2016/09/21/massive-...</td>\n",
       "      <td>[http://occupydemocrats.com/wp-content/uploads...</td>\n",
       "      <td>http://occupydemocrats.com</td>\n",
       "      <td>12k SHARES SHARE THIS STORY\\n\\nMassive protest...</td>\n",
       "      <td>Massive Protests Erupt In North Carolina After...</td>\n",
       "      <td>http://occupydemocrats.com/2016/09/21/massive-...</td>\n",
       "      <td>1</td>\n",
       "    </tr>\n",
       "    <tr>\n",
       "      <th>2</th>\n",
       "      <td>[]</td>\n",
       "      <td>http://rightwingnews.com/top-news/famous-dog-k...</td>\n",
       "      <td>[http://rightwingnews.com/wp-content/uploads/2...</td>\n",
       "      <td>http://rightwingnews.com</td>\n",
       "      <td>Famous dog killed in spot she waited a year fo...</td>\n",
       "      <td>Famous dog killed in spot she waited a year fo...</td>\n",
       "      <td>http://rightwingnews.com/top-news/famous-dog-k...</td>\n",
       "      <td>1</td>\n",
       "    </tr>\n",
       "    <tr>\n",
       "      <th>3</th>\n",
       "      <td>[]</td>\n",
       "      <td>NaN</td>\n",
       "      <td>NaN</td>\n",
       "      <td></td>\n",
       "      <td>The University of North Dakota is investigatin...</td>\n",
       "      <td>'Locked the black bitch out': White students u...</td>\n",
       "      <td>NaN</td>\n",
       "      <td>1</td>\n",
       "    </tr>\n",
       "    <tr>\n",
       "      <th>4</th>\n",
       "      <td>[Jack Shafer, Robert Strauss]</td>\n",
       "      <td>http://www.politico.com/magazine/story/2016/09...</td>\n",
       "      <td>[data:image/gif;base64,R0lGODlhAQABAAAAACH5BAE...</td>\n",
       "      <td>http://politi.co</td>\n",
       "      <td>As my 25th wedding anniversary approached, I t...</td>\n",
       "      <td>Worst. President. Ever.</td>\n",
       "      <td>http://politi.co/2cGdput</td>\n",
       "      <td>1</td>\n",
       "    </tr>\n",
       "  </tbody>\n",
       "</table>\n",
       "</div>"
      ],
      "text/plain": [
       "                                             authors  \\\n",
       "0  [Jack Shafer, Burgess Everett, Seung Min Kim, ...   \n",
       "1  [Colin Taylor, Grant Stern, Brett Bose, Natali...   \n",
       "2                                                 []   \n",
       "3                                                 []   \n",
       "4                      [Jack Shafer, Robert Strauss]   \n",
       "\n",
       "                                      canonical_link  \\\n",
       "0  http://www.politico.com/story/2016/09/zika-fun...   \n",
       "1  http://occupydemocrats.com/2016/09/21/massive-...   \n",
       "2  http://rightwingnews.com/top-news/famous-dog-k...   \n",
       "3                                                NaN   \n",
       "4  http://www.politico.com/magazine/story/2016/09...   \n",
       "\n",
       "                                              images  \\\n",
       "0  [http://static.politico.com/ae/2d/1a0119fa45b8...   \n",
       "1  [http://occupydemocrats.com/wp-content/uploads...   \n",
       "2  [http://rightwingnews.com/wp-content/uploads/2...   \n",
       "3                                                NaN   \n",
       "4  [data:image/gif;base64,R0lGODlhAQABAAAAACH5BAE...   \n",
       "\n",
       "                       source  \\\n",
       "0            http://politi.co   \n",
       "1  http://occupydemocrats.com   \n",
       "2    http://rightwingnews.com   \n",
       "3                               \n",
       "4            http://politi.co   \n",
       "\n",
       "                                                text  \\\n",
       "0  \"I would encourage our colleagues across the a...   \n",
       "1  12k SHARES SHARE THIS STORY\\n\\nMassive protest...   \n",
       "2  Famous dog killed in spot she waited a year fo...   \n",
       "3  The University of North Dakota is investigatin...   \n",
       "4  As my 25th wedding anniversary approached, I t...   \n",
       "\n",
       "                                               title  \\\n",
       "0   McConnell punts budget vote to buy time for deal   \n",
       "1  Massive Protests Erupt In North Carolina After...   \n",
       "2  Famous dog killed in spot she waited a year fo...   \n",
       "3  'Locked the black bitch out': White students u...   \n",
       "4                            Worst. President. Ever.   \n",
       "\n",
       "                                                 url  veracity  \n",
       "0                           http://politi.co/2cksDqD         1  \n",
       "1  http://occupydemocrats.com/2016/09/21/massive-...         1  \n",
       "2  http://rightwingnews.com/top-news/famous-dog-k...         1  \n",
       "3                                                NaN         1  \n",
       "4                           http://politi.co/2cGdput         1  "
      ]
     },
     "execution_count": 2,
     "metadata": {},
     "output_type": "execute_result"
    }
   ],
   "source": [
    "import pandas as pd\n",
    "import numpy as np\n",
    "import os\n",
    "\n",
    "def loadJsonFiles(directory, veracity):    \n",
    "    shouldAppend = False\n",
    "    for filename in os.listdir(directory):\n",
    "        df2 = pd.read_json(directory + filename, lines=True)\n",
    "        if (shouldAppend):\n",
    "            df = df.append(df2, ignore_index=True, sort=True)      \n",
    "        else:\n",
    "            df = df2\n",
    "        df['veracity'] = veracity\n",
    "        shouldAppend = True\n",
    "        \n",
    "            \n",
    "    # removing nan values    \n",
    "    df['source'].fillna(\"\", inplace=True)\n",
    "    for index, row in df.iterrows():\n",
    "        if (type(row['authors']) == float):\n",
    "            df.at[index, 'authors'] = []\n",
    "\n",
    "            \n",
    "    #removing unnecessary columns\n",
    "    df = df.drop(columns=['keywords','meta_data','movies', 'keywords', 'summary', 'publish_date','top_img'])\n",
    "    return df\n",
    "\n",
    "def loadDataset():\n",
    "    dataFake = loadJsonFiles('data/PolitiFact/FakeNewsContent/', 0)\n",
    "    dataReal = loadJsonFiles('data/PolitiFact/RealNewsContent/', 1)\n",
    "    return dataReal, dataFake\n",
    "\n",
    "dataFake, dataReal = loadDataset()\n",
    "\n",
    "dataTrainFake = dataFake[:100]\n",
    "dataTrainReal = dataReal[:100]\n",
    "dataTestFake = dataFake[101:]\n",
    "dataTestReal = dataReal[101:]\n",
    "\n",
    "dataTest = dataTestFake.append(dataTestReal,ignore_index=True, sort=True)      \n",
    "dataTrain = dataTrainFake.append(dataTrainReal,ignore_index=True, sort=True)    \n",
    "dataAll = dataFake.append(dataReal, ignore_index=True, sort=True)      \n",
    "dataAll.head()"
   ]
  },
  {
   "cell_type": "markdown",
   "metadata": {},
   "source": [
    "## Entity component"
   ]
  },
  {
   "cell_type": "markdown",
   "metadata": {},
   "source": [
    "### Number of Authors"
   ]
  },
  {
   "cell_type": "code",
   "execution_count": 3,
   "metadata": {},
   "outputs": [
    {
     "name": "stdout",
     "output_type": "stream",
     "text": [
      "trueZeroAuthors= 13\n",
      "fakeZeroAuthors= 85\n",
      "trueOneAuthors= 36\n",
      "fakeOneAuthors= 24\n",
      "trueMoreThanOneAuthors= 71\n",
      "fakeMoreThanOneAuthors= 11\n"
     ]
    },
    {
     "data": {
      "text/html": [
       "<div>\n",
       "<style scoped>\n",
       "    .dataframe tbody tr th:only-of-type {\n",
       "        vertical-align: middle;\n",
       "    }\n",
       "\n",
       "    .dataframe tbody tr th {\n",
       "        vertical-align: top;\n",
       "    }\n",
       "\n",
       "    .dataframe thead th {\n",
       "        text-align: right;\n",
       "    }\n",
       "</style>\n",
       "<table border=\"1\" class=\"dataframe\">\n",
       "  <thead>\n",
       "    <tr style=\"text-align: right;\">\n",
       "      <th></th>\n",
       "      <th>veracity</th>\n",
       "      <th>authors_count</th>\n",
       "    </tr>\n",
       "  </thead>\n",
       "  <tbody>\n",
       "    <tr>\n",
       "      <th>0</th>\n",
       "      <td>1</td>\n",
       "      <td>4.0</td>\n",
       "    </tr>\n",
       "    <tr>\n",
       "      <th>1</th>\n",
       "      <td>1</td>\n",
       "      <td>4.0</td>\n",
       "    </tr>\n",
       "    <tr>\n",
       "      <th>2</th>\n",
       "      <td>1</td>\n",
       "      <td>0.0</td>\n",
       "    </tr>\n",
       "    <tr>\n",
       "      <th>3</th>\n",
       "      <td>1</td>\n",
       "      <td>0.0</td>\n",
       "    </tr>\n",
       "    <tr>\n",
       "      <th>4</th>\n",
       "      <td>1</td>\n",
       "      <td>2.0</td>\n",
       "    </tr>\n",
       "  </tbody>\n",
       "</table>\n",
       "</div>"
      ],
      "text/plain": [
       "   veracity  authors_count\n",
       "0         1            4.0\n",
       "1         1            4.0\n",
       "2         1            0.0\n",
       "3         1            0.0\n",
       "4         1            2.0"
      ]
     },
     "execution_count": 3,
     "metadata": {},
     "output_type": "execute_result"
    }
   ],
   "source": [
    "dataAllAuthorsVeracity = dataAll.copy()\n",
    "\n",
    "fakeZero = 0\n",
    "fakeOne = 0\n",
    "falseMoreThanOne = 0\n",
    "trueZero = 0\n",
    "trueOne = 0\n",
    "trueMoreThanOne = 0\n",
    "for index, row in dataAllAuthorsVeracity.iterrows():\n",
    "    authorsCount = len(row['authors'])\n",
    "    dataAllAuthorsVeracity.at[index, 'authors_count'] = len(row['authors'])\n",
    "    if (authorsCount == 0):\n",
    "        if (row['veracity'] == 1):\n",
    "            trueZero += 1\n",
    "        else:\n",
    "            fakeZero += 1\n",
    "    elif (authorsCount == 1):\n",
    "        if (row['veracity'] == 1):\n",
    "            trueOne += 1\n",
    "        else:\n",
    "            fakeOne += 1\n",
    "    elif (authorsCount > 1):\n",
    "        if (row['veracity'] == 1):\n",
    "            trueMoreThanOne += 1\n",
    "        else:\n",
    "            falseMoreThanOne += 1\n",
    "\n",
    "print(\"trueZeroAuthors=\", trueZero)\n",
    "print(\"fakeZeroAuthors=\", fakeZero)\n",
    "print(\"trueOneAuthors=\", trueOne)\n",
    "print(\"fakeOneAuthors=\", fakeOne)\n",
    "print(\"trueMoreThanOneAuthors=\", trueMoreThanOne)\n",
    "print(\"fakeMoreThanOneAuthors=\", falseMoreThanOne)\n",
    "\n",
    "columnsToRemove = ['authors', 'canonical_link', 'images', 'source','url', 'text', 'title']\n",
    "dataAllAuthorsVeracity = dataAllAuthorsVeracity.drop(columns=columnsToRemove)\n",
    "dataAllAuthorsVeracity.head()"
   ]
  },
  {
   "cell_type": "code",
   "execution_count": 4,
   "metadata": {},
   "outputs": [],
   "source": [
    "dataTrainAuthorsVeracity = dataTrain.copy()\n",
    "dataTestAuthorsVeracity = dataTest.copy()\n",
    "\n",
    "for index, row in dataTrainAuthorsVeracity.iterrows():\n",
    "    dataTrainAuthorsVeracity.at[index, 'authors_count'] = len(row['authors'])\n",
    "\n",
    "for index, row in dataTestAuthorsVeracity.iterrows():\n",
    "    dataTestAuthorsVeracity.at[index, 'authors_count'] = len(row['authors'])\n",
    "            "
   ]
  },
  {
   "cell_type": "code",
   "execution_count": 5,
   "metadata": {},
   "outputs": [
    {
     "name": "stdout",
     "output_type": "stream",
     "text": [
      "accuracy= 0.8421052631578947\n"
     ]
    }
   ],
   "source": [
    "import matplotlib.pyplot as plt\n",
    "X_train = dataTrainAuthorsVeracity['authors_count'].values.reshape(-1, 1)\n",
    "Y_train = dataTrainAuthorsVeracity['veracity'].values\n",
    "X_test = dataTestAuthorsVeracity['authors_count'].values.reshape(-1, 1)\n",
    "Y_test = dataTestAuthorsVeracity['veracity'].values.reshape(-1, 1)\n",
    "\n",
    "\n",
    "from sklearn import linear_model\n",
    "logClassifierAuthorsCount = linear_model.LogisticRegression(solver='liblinear', C=1, random_state=111)\n",
    "logClassifierAuthorsCount.fit(X_train, Y_train)\n",
    "predicted = logClassifierAuthorsCount.predict(X_test)\n",
    "\n",
    "from sklearn import metrics\n",
    "print(\"accuracy=\", metrics.accuracy_score(Y_test, predicted))"
   ]
  },
  {
   "cell_type": "code",
   "execution_count": 6,
   "metadata": {},
   "outputs": [
    {
     "name": "stdout",
     "output_type": "stream",
     "text": [
      "0.015660137851400635\n"
     ]
    }
   ],
   "source": [
    "def DATAMINERS_getAuthorScore(numAuthors): # return between 0 and 1, being 0 = True,  1 = Fake\n",
    "    x = np.array(numAuthors).reshape(-1, 1)\n",
    "    predicted = logClassifierAuthorsCount.predict(x)\n",
    "    predicedProbTrue = logClassifierAuthorsCount.predict_proba(x)[:,1]\n",
    "    #return int(predicted), float(predicedProb)\n",
    "    return 1 - float(predicedProbTrue)\n",
    "\n",
    "print(DATAMINERS_getAuthorScore(4))"
   ]
  },
  {
   "cell_type": "markdown",
   "metadata": {},
   "source": [
    "### Party affiliation"
   ]
  },
  {
   "cell_type": "code",
   "execution_count": 7,
   "metadata": {},
   "outputs": [
    {
     "name": "stdout",
     "output_type": "stream",
     "text": [
      "Party Affiliation Model Trained - accuracy:   0.565436\n",
      "Party Affiliation Model Trained - accuracy:   0.565436\n"
     ]
    }
   ],
   "source": [
    "from ipynb.fs.full.m_partyaffiliation import PartyAffiliation\n",
    "partyAffiliation = PartyAffiliation()"
   ]
  },
  {
   "cell_type": "code",
   "execution_count": 8,
   "metadata": {},
   "outputs": [
    {
     "name": "stdout",
     "output_type": "stream",
     "text": [
      "0.39560573321891\n"
     ]
    }
   ],
   "source": [
    "def DATAMINERS_getPartyAffiliationScore(headline, partyName): # return between 0 and 1, being 0 = True,  1 = Fake\n",
    "    if ( (headline == \"\") | (partyName == \"\") ):\n",
    "        return 0\n",
    "    binaryValue, probValue = partyAffiliation.predict(headline, partyName)\n",
    "    return (1 - float(probValue))\n",
    "\n",
    "print(DATAMINERS_getPartyAffiliationScore(\"Says the Annies List political group supports third-trimester abortions on demand\", \"republican\"))"
   ]
  },
  {
   "cell_type": "markdown",
   "metadata": {},
   "source": [
    "## Text components"
   ]
  },
  {
   "cell_type": "markdown",
   "metadata": {},
   "source": [
    "### Title - Clickbait"
   ]
  },
  {
   "cell_type": "code",
   "execution_count": 9,
   "metadata": {},
   "outputs": [
    {
     "name": "stdout",
     "output_type": "stream",
     "text": [
      "[nltk_data] Downloading package stopwords to /Users/rsc/nltk_data...\n",
      "[nltk_data]   Package stopwords is already up-to-date!\n",
      "[nltk_data] Downloading package averaged_perceptron_tagger to\n",
      "[nltk_data]     /Users/rsc/nltk_data...\n",
      "[nltk_data]   Package averaged_perceptron_tagger is already up-to-\n",
      "[nltk_data]       date!\n"
     ]
    },
    {
     "name": "stderr",
     "output_type": "stream",
     "text": [
      "/anaconda3/lib/python3.6/site-packages/sklearn/utils/validation.py:590: DataConversionWarning: Data with input dtype int64 was converted to float64 by StandardScaler.\n",
      "  warnings.warn(msg, DataConversionWarning)\n",
      "/anaconda3/lib/python3.6/site-packages/sklearn/utils/validation.py:590: DataConversionWarning: Data with input dtype int64 was converted to float64 by StandardScaler.\n",
      "  warnings.warn(msg, DataConversionWarning)\n",
      "/anaconda3/lib/python3.6/site-packages/sklearn/utils/validation.py:590: DataConversionWarning: Data with input dtype int64 was converted to float64 by StandardScaler.\n",
      "  warnings.warn(msg, DataConversionWarning)\n"
     ]
    },
    {
     "name": "stdout",
     "output_type": "stream",
     "text": [
      "Clickbait Model Trained - accuracy:   0.976875\n"
     ]
    },
    {
     "name": "stderr",
     "output_type": "stream",
     "text": [
      "/anaconda3/lib/python3.6/site-packages/sklearn/utils/validation.py:590: DataConversionWarning: Data with input dtype int64 was converted to float64 by StandardScaler.\n",
      "  warnings.warn(msg, DataConversionWarning)\n",
      "/anaconda3/lib/python3.6/site-packages/sklearn/utils/validation.py:590: DataConversionWarning: Data with input dtype int64 was converted to float64 by StandardScaler.\n",
      "  warnings.warn(msg, DataConversionWarning)\n",
      "/anaconda3/lib/python3.6/site-packages/sklearn/utils/validation.py:590: DataConversionWarning: Data with input dtype int64 was converted to float64 by StandardScaler.\n",
      "  warnings.warn(msg, DataConversionWarning)\n"
     ]
    },
    {
     "name": "stdout",
     "output_type": "stream",
     "text": [
      "Clickbait Model Trained - accuracy:   0.976875\n"
     ]
    }
   ],
   "source": [
    "from ipynb.fs.full.m_clickbait import Clickbait\n",
    "clickBait = Clickbait()"
   ]
  },
  {
   "cell_type": "code",
   "execution_count": 10,
   "metadata": {},
   "outputs": [
    {
     "name": "stdout",
     "output_type": "stream",
     "text": [
      "0.9984636868106773\n"
     ]
    },
    {
     "name": "stderr",
     "output_type": "stream",
     "text": [
      "/anaconda3/lib/python3.6/site-packages/sklearn/utils/validation.py:590: DataConversionWarning: Data with input dtype int64 was converted to float64 by StandardScaler.\n",
      "  warnings.warn(msg, DataConversionWarning)\n"
     ]
    }
   ],
   "source": [
    "def DATAMINERS_getClickbaitScore(headline): # return between 0 and 1, being 0 = True,  1 = Fake\n",
    "    if (headline == \"\"):\n",
    "        return 0\n",
    "    binaryValue, probValue = clickBait.predict(headline)\n",
    "    return float(probValue)\n",
    "\n",
    "print(DATAMINERS_getClickbaitScore(\"Should You bring the money now\"))"
   ]
  },
  {
   "cell_type": "markdown",
   "metadata": {},
   "source": [
    "### Title - Body relation"
   ]
  },
  {
   "cell_type": "code",
   "execution_count": 11,
   "metadata": {},
   "outputs": [],
   "source": [
    "dataTrainTitleBodyRelation = dataTrain.copy()\n",
    "dataTestTitleBodyRelation = dataTest.copy()\n",
    "dataAllTitleBodyRelation = dataAll.copy()"
   ]
  },
  {
   "cell_type": "code",
   "execution_count": 12,
   "metadata": {},
   "outputs": [
    {
     "data": {
      "text/html": [
       "<div>\n",
       "<style scoped>\n",
       "    .dataframe tbody tr th:only-of-type {\n",
       "        vertical-align: middle;\n",
       "    }\n",
       "\n",
       "    .dataframe tbody tr th {\n",
       "        vertical-align: top;\n",
       "    }\n",
       "\n",
       "    .dataframe thead th {\n",
       "        text-align: right;\n",
       "    }\n",
       "</style>\n",
       "<table border=\"1\" class=\"dataframe\">\n",
       "  <thead>\n",
       "    <tr style=\"text-align: right;\">\n",
       "      <th></th>\n",
       "      <th>text</th>\n",
       "      <th>title</th>\n",
       "      <th>veracity</th>\n",
       "    </tr>\n",
       "  </thead>\n",
       "  <tbody>\n",
       "    <tr>\n",
       "      <th>0</th>\n",
       "      <td>\"I would encourage our colleagues across the a...</td>\n",
       "      <td>McConnell punts budget vote to buy time for deal</td>\n",
       "      <td>1</td>\n",
       "    </tr>\n",
       "    <tr>\n",
       "      <th>1</th>\n",
       "      <td>12k SHARES SHARE THIS STORY\\n\\nMassive protest...</td>\n",
       "      <td>Massive Protests Erupt In North Carolina After...</td>\n",
       "      <td>1</td>\n",
       "    </tr>\n",
       "    <tr>\n",
       "      <th>2</th>\n",
       "      <td>Famous dog killed in spot she waited a year fo...</td>\n",
       "      <td>Famous dog killed in spot she waited a year fo...</td>\n",
       "      <td>1</td>\n",
       "    </tr>\n",
       "    <tr>\n",
       "      <th>3</th>\n",
       "      <td>The University of North Dakota is investigatin...</td>\n",
       "      <td>'Locked the black bitch out': White students u...</td>\n",
       "      <td>1</td>\n",
       "    </tr>\n",
       "    <tr>\n",
       "      <th>4</th>\n",
       "      <td>As my 25th wedding anniversary approached, I t...</td>\n",
       "      <td>Worst. President. Ever.</td>\n",
       "      <td>1</td>\n",
       "    </tr>\n",
       "  </tbody>\n",
       "</table>\n",
       "</div>"
      ],
      "text/plain": [
       "                                                text  \\\n",
       "0  \"I would encourage our colleagues across the a...   \n",
       "1  12k SHARES SHARE THIS STORY\\n\\nMassive protest...   \n",
       "2  Famous dog killed in spot she waited a year fo...   \n",
       "3  The University of North Dakota is investigatin...   \n",
       "4  As my 25th wedding anniversary approached, I t...   \n",
       "\n",
       "                                               title  veracity  \n",
       "0   McConnell punts budget vote to buy time for deal         1  \n",
       "1  Massive Protests Erupt In North Carolina After...         1  \n",
       "2  Famous dog killed in spot she waited a year fo...         1  \n",
       "3  'Locked the black bitch out': White students u...         1  \n",
       "4                            Worst. President. Ever.         1  "
      ]
     },
     "execution_count": 12,
     "metadata": {},
     "output_type": "execute_result"
    }
   ],
   "source": [
    "columnsToRemove = ['authors', 'canonical_link', 'images', 'source','url']\n",
    "dataTrainTitleBodyRelation = dataTrainTitleBodyRelation.drop(columns = columnsToRemove)\n",
    "dataTestTitleBodyRelation = dataTestTitleBodyRelation.drop(columns = columnsToRemove)\n",
    "dataAllTitleBodyRelation = dataAllTitleBodyRelation.drop(columns = columnsToRemove)\n",
    "dataAllTitleBodyRelation.head()"
   ]
  },
  {
   "cell_type": "code",
   "execution_count": 13,
   "metadata": {},
   "outputs": [],
   "source": [
    "### functions\n",
    "from nltk.tokenize import word_tokenize\n",
    "from nltk.stem.porter import PorterStemmer\n",
    "porter = PorterStemmer()\n",
    "\n",
    "def prepareText(text):\n",
    "    tokens = word_tokenize(text) #break down text into tokens (words)\n",
    "    words = [word for word in tokens if word.isalpha()] # remove all tokens that are not alphabetic\n",
    "    stemmed = [porter.stem(word) for word in words] # stem the words\n",
    "    return stemmed"
   ]
  },
  {
   "cell_type": "code",
   "execution_count": 14,
   "metadata": {},
   "outputs": [
    {
     "data": {
      "text/html": [
       "<div>\n",
       "<style scoped>\n",
       "    .dataframe tbody tr th:only-of-type {\n",
       "        vertical-align: middle;\n",
       "    }\n",
       "\n",
       "    .dataframe tbody tr th {\n",
       "        vertical-align: top;\n",
       "    }\n",
       "\n",
       "    .dataframe thead th {\n",
       "        text-align: right;\n",
       "    }\n",
       "</style>\n",
       "<table border=\"1\" class=\"dataframe\">\n",
       "  <thead>\n",
       "    <tr style=\"text-align: right;\">\n",
       "      <th></th>\n",
       "      <th>text</th>\n",
       "      <th>title</th>\n",
       "      <th>veracity</th>\n",
       "      <th>title_tokens</th>\n",
       "      <th>text_tokens</th>\n",
       "    </tr>\n",
       "  </thead>\n",
       "  <tbody>\n",
       "    <tr>\n",
       "      <th>0</th>\n",
       "      <td>\"I would encourage our colleagues across the a...</td>\n",
       "      <td>McConnell punts budget vote to buy time for deal</td>\n",
       "      <td>1</td>\n",
       "      <td>[mcconnel, punt, budget, vote, to, buy, time, ...</td>\n",
       "      <td>[I, would, encourag, our, colleagu, across, th...</td>\n",
       "    </tr>\n",
       "    <tr>\n",
       "      <th>1</th>\n",
       "      <td>12k SHARES SHARE THIS STORY\\n\\nMassive protest...</td>\n",
       "      <td>Massive Protests Erupt In North Carolina After...</td>\n",
       "      <td>1</td>\n",
       "      <td>[massiv, protest, erupt, In, north, carolina, ...</td>\n",
       "      <td>[share, share, thi, stori, massiv, protest, ha...</td>\n",
       "    </tr>\n",
       "    <tr>\n",
       "      <th>2</th>\n",
       "      <td>Famous dog killed in spot she waited a year fo...</td>\n",
       "      <td>Famous dog killed in spot she waited a year fo...</td>\n",
       "      <td>1</td>\n",
       "      <td>[famou, dog, kill, in, spot, she, wait, a, yea...</td>\n",
       "      <td>[famou, dog, kill, in, spot, she, wait, a, yea...</td>\n",
       "    </tr>\n",
       "    <tr>\n",
       "      <th>3</th>\n",
       "      <td>The University of North Dakota is investigatin...</td>\n",
       "      <td>'Locked the black bitch out': White students u...</td>\n",
       "      <td>1</td>\n",
       "      <td>[the, black, bitch, out, white, student, under...</td>\n",
       "      <td>[the, univers, of, north, dakota, is, investig...</td>\n",
       "    </tr>\n",
       "    <tr>\n",
       "      <th>4</th>\n",
       "      <td>As my 25th wedding anniversary approached, I t...</td>\n",
       "      <td>Worst. President. Ever.</td>\n",
       "      <td>1</td>\n",
       "      <td>[worst, presid, ever]</td>\n",
       "      <td>[As, my, wed, anniversari, approach, I, tri, t...</td>\n",
       "    </tr>\n",
       "  </tbody>\n",
       "</table>\n",
       "</div>"
      ],
      "text/plain": [
       "                                                text  \\\n",
       "0  \"I would encourage our colleagues across the a...   \n",
       "1  12k SHARES SHARE THIS STORY\\n\\nMassive protest...   \n",
       "2  Famous dog killed in spot she waited a year fo...   \n",
       "3  The University of North Dakota is investigatin...   \n",
       "4  As my 25th wedding anniversary approached, I t...   \n",
       "\n",
       "                                               title  veracity  \\\n",
       "0   McConnell punts budget vote to buy time for deal         1   \n",
       "1  Massive Protests Erupt In North Carolina After...         1   \n",
       "2  Famous dog killed in spot she waited a year fo...         1   \n",
       "3  'Locked the black bitch out': White students u...         1   \n",
       "4                            Worst. President. Ever.         1   \n",
       "\n",
       "                                        title_tokens  \\\n",
       "0  [mcconnel, punt, budget, vote, to, buy, time, ...   \n",
       "1  [massiv, protest, erupt, In, north, carolina, ...   \n",
       "2  [famou, dog, kill, in, spot, she, wait, a, yea...   \n",
       "3  [the, black, bitch, out, white, student, under...   \n",
       "4                              [worst, presid, ever]   \n",
       "\n",
       "                                         text_tokens  \n",
       "0  [I, would, encourag, our, colleagu, across, th...  \n",
       "1  [share, share, thi, stori, massiv, protest, ha...  \n",
       "2  [famou, dog, kill, in, spot, she, wait, a, yea...  \n",
       "3  [the, univers, of, north, dakota, is, investig...  \n",
       "4  [As, my, wed, anniversari, approach, I, tri, t...  "
      ]
     },
     "execution_count": 14,
     "metadata": {},
     "output_type": "execute_result"
    }
   ],
   "source": [
    "for index, row in dataTrainTitleBodyRelation.iterrows():\n",
    "    dataTrainTitleBodyRelation.at[index, 'title_tokens'] = \"\"\n",
    "    dataTrainTitleBodyRelation.at[index, 'title_tokens'] = dataTrainTitleBodyRelation['title_tokens'].astype(object)\n",
    "    dataTrainTitleBodyRelation.at[index, 'text_tokens'] = \"\"\n",
    "    dataTrainTitleBodyRelation.at[index, 'text_tokens'] = dataTrainTitleBodyRelation['text_tokens'].astype(object)\n",
    "    dataTrainTitleBodyRelation.at[index, 'title_tokens'] = np.array(prepareText(row['title']))\n",
    "    dataTrainTitleBodyRelation.at[index, 'text_tokens'] = prepareText(row['text'])        \n",
    "\n",
    "for index, row in dataTestTitleBodyRelation.iterrows():\n",
    "    dataTestTitleBodyRelation.at[index, 'title_tokens'] = \"\"\n",
    "    dataTestTitleBodyRelation.at[index, 'title_tokens'] = dataTestTitleBodyRelation['title_tokens'].astype(object)\n",
    "    dataTestTitleBodyRelation.at[index, 'text_tokens'] = \"\"\n",
    "    dataTestTitleBodyRelation.at[index, 'text_tokens'] = dataTestTitleBodyRelation['text_tokens'].astype(object)\n",
    "    dataTestTitleBodyRelation.at[index, 'title_tokens'] = np.array(prepareText(row['title']))\n",
    "    dataTestTitleBodyRelation.at[index, 'text_tokens'] = prepareText(row['text'])        \n",
    "\n",
    "    \n",
    "for index, row in dataAllTitleBodyRelation.iterrows():\n",
    "    dataAllTitleBodyRelation.at[index, 'title_tokens'] = \"\"\n",
    "    dataAllTitleBodyRelation.at[index, 'title_tokens'] = dataAllTitleBodyRelation['title_tokens'].astype(object)\n",
    "    dataAllTitleBodyRelation.at[index, 'text_tokens'] = \"\"\n",
    "    dataAllTitleBodyRelation.at[index, 'text_tokens'] = dataAllTitleBodyRelation['text_tokens'].astype(object)\n",
    "    dataAllTitleBodyRelation.at[index, 'title_tokens'] = np.array(prepareText(row['title']))\n",
    "    dataAllTitleBodyRelation.at[index, 'text_tokens'] = prepareText(row['text']) \n",
    "    \n",
    "dataTrainTitleBodyRelation.head()"
   ]
  },
  {
   "cell_type": "code",
   "execution_count": 15,
   "metadata": {},
   "outputs": [
    {
     "data": {
      "text/html": [
       "<div>\n",
       "<style scoped>\n",
       "    .dataframe tbody tr th:only-of-type {\n",
       "        vertical-align: middle;\n",
       "    }\n",
       "\n",
       "    .dataframe tbody tr th {\n",
       "        vertical-align: top;\n",
       "    }\n",
       "\n",
       "    .dataframe thead th {\n",
       "        text-align: right;\n",
       "    }\n",
       "</style>\n",
       "<table border=\"1\" class=\"dataframe\">\n",
       "  <thead>\n",
       "    <tr style=\"text-align: right;\">\n",
       "      <th></th>\n",
       "      <th>text</th>\n",
       "      <th>title</th>\n",
       "      <th>veracity</th>\n",
       "      <th>title_tokens</th>\n",
       "      <th>text_tokens</th>\n",
       "      <th>cosine_title_text</th>\n",
       "    </tr>\n",
       "  </thead>\n",
       "  <tbody>\n",
       "    <tr>\n",
       "      <th>0</th>\n",
       "      <td>\"I would encourage our colleagues across the a...</td>\n",
       "      <td>McConnell punts budget vote to buy time for deal</td>\n",
       "      <td>1</td>\n",
       "      <td>[mcconnel, punt, budget, vote, to, buy, time, ...</td>\n",
       "      <td>[I, would, encourag, our, colleagu, across, th...</td>\n",
       "      <td>0.192879</td>\n",
       "    </tr>\n",
       "    <tr>\n",
       "      <th>1</th>\n",
       "      <td>12k SHARES SHARE THIS STORY\\n\\nMassive protest...</td>\n",
       "      <td>Massive Protests Erupt In North Carolina After...</td>\n",
       "      <td>1</td>\n",
       "      <td>[massiv, protest, erupt, In, north, carolina, ...</td>\n",
       "      <td>[share, share, thi, stori, massiv, protest, ha...</td>\n",
       "      <td>0.231897</td>\n",
       "    </tr>\n",
       "    <tr>\n",
       "      <th>2</th>\n",
       "      <td>Famous dog killed in spot she waited a year fo...</td>\n",
       "      <td>Famous dog killed in spot she waited a year fo...</td>\n",
       "      <td>1</td>\n",
       "      <td>[famou, dog, kill, in, spot, she, wait, a, yea...</td>\n",
       "      <td>[famou, dog, kill, in, spot, she, wait, a, yea...</td>\n",
       "      <td>0.326744</td>\n",
       "    </tr>\n",
       "    <tr>\n",
       "      <th>3</th>\n",
       "      <td>The University of North Dakota is investigatin...</td>\n",
       "      <td>'Locked the black bitch out': White students u...</td>\n",
       "      <td>1</td>\n",
       "      <td>[the, black, bitch, out, white, student, under...</td>\n",
       "      <td>[the, univers, of, north, dakota, is, investig...</td>\n",
       "      <td>0.218532</td>\n",
       "    </tr>\n",
       "    <tr>\n",
       "      <th>4</th>\n",
       "      <td>As my 25th wedding anniversary approached, I t...</td>\n",
       "      <td>Worst. President. Ever.</td>\n",
       "      <td>1</td>\n",
       "      <td>[worst, presid, ever]</td>\n",
       "      <td>[As, my, wed, anniversari, approach, I, tri, t...</td>\n",
       "      <td>0.035407</td>\n",
       "    </tr>\n",
       "  </tbody>\n",
       "</table>\n",
       "</div>"
      ],
      "text/plain": [
       "                                                text  \\\n",
       "0  \"I would encourage our colleagues across the a...   \n",
       "1  12k SHARES SHARE THIS STORY\\n\\nMassive protest...   \n",
       "2  Famous dog killed in spot she waited a year fo...   \n",
       "3  The University of North Dakota is investigatin...   \n",
       "4  As my 25th wedding anniversary approached, I t...   \n",
       "\n",
       "                                               title  veracity  \\\n",
       "0   McConnell punts budget vote to buy time for deal         1   \n",
       "1  Massive Protests Erupt In North Carolina After...         1   \n",
       "2  Famous dog killed in spot she waited a year fo...         1   \n",
       "3  'Locked the black bitch out': White students u...         1   \n",
       "4                            Worst. President. Ever.         1   \n",
       "\n",
       "                                        title_tokens  \\\n",
       "0  [mcconnel, punt, budget, vote, to, buy, time, ...   \n",
       "1  [massiv, protest, erupt, In, north, carolina, ...   \n",
       "2  [famou, dog, kill, in, spot, she, wait, a, yea...   \n",
       "3  [the, black, bitch, out, white, student, under...   \n",
       "4                              [worst, presid, ever]   \n",
       "\n",
       "                                         text_tokens  cosine_title_text  \n",
       "0  [I, would, encourag, our, colleagu, across, th...           0.192879  \n",
       "1  [share, share, thi, stori, massiv, protest, ha...           0.231897  \n",
       "2  [famou, dog, kill, in, spot, she, wait, a, yea...           0.326744  \n",
       "3  [the, univers, of, north, dakota, is, investig...           0.218532  \n",
       "4  [As, my, wed, anniversari, approach, I, tri, t...           0.035407  "
      ]
     },
     "execution_count": 15,
     "metadata": {},
     "output_type": "execute_result"
    }
   ],
   "source": [
    "from sklearn.feature_extraction.text import TfidfVectorizer\n",
    "from sklearn.metrics.pairwise import cosine_similarity  \n",
    "\n",
    "for index, row in dataTrainTitleBodyRelation.iterrows():\n",
    "    train_set = [ row['title'], row['text']]\n",
    "    tfidf_vectorizer = TfidfVectorizer()\n",
    "    tfidf_matrix = tfidf_vectorizer.fit_transform(train_set)\n",
    "    cosine = cosine_similarity(tfidf_matrix[0:1], tfidf_matrix)\n",
    "    dataTrainTitleBodyRelation.at[index, 'cosine_title_text'] = cosine[0][1]\n",
    "    \n",
    "for index, row in dataTestTitleBodyRelation.iterrows():\n",
    "    train_set = [ row['title'], row['text']]\n",
    "    tfidf_vectorizer = TfidfVectorizer()\n",
    "    tfidf_matrix = tfidf_vectorizer.fit_transform(train_set)\n",
    "    cosine = cosine_similarity(tfidf_matrix[0:1], tfidf_matrix)\n",
    "    dataTestTitleBodyRelation.at[index, 'cosine_title_text'] = cosine[0][1]\n",
    "    \n",
    "for index, row in dataAllTitleBodyRelation.iterrows():\n",
    "    train_set = [ row['title'], row['text']]\n",
    "    tfidf_vectorizer = TfidfVectorizer()\n",
    "    tfidf_matrix = tfidf_vectorizer.fit_transform(train_set)\n",
    "    cosine = cosine_similarity(tfidf_matrix[0:1], tfidf_matrix)\n",
    "    dataAllTitleBodyRelation.at[index, 'cosine_title_text'] = cosine[0][1]\n",
    "\n",
    "\n",
    "dataTrainTitleBodyRelation.head()"
   ]
  },
  {
   "cell_type": "code",
   "execution_count": 16,
   "metadata": {},
   "outputs": [
    {
     "name": "stdout",
     "output_type": "stream",
     "text": [
      "Model slope:     -0.24036815932853953\n",
      "Model intercept: 0.5486418350709069\n",
      "R2 score: 0.0022656842312553938\n"
     ]
    },
    {
     "data": {
      "image/png": "[encoded data removed]",
      "text/plain": [
       "<Figure size 432x288 with 1 Axes>"
      ]
     },
     "metadata": {},
     "output_type": "display_data"
    }
   ],
   "source": [
    "A = np.array(list(dataAllTitleBodyRelation.cosine_title_text))\n",
    "B = np.array(list(dataAllTitleBodyRelation.veracity))\n",
    "\n",
    "from sklearn.linear_model import LinearRegression\n",
    "linearRegressionBodyRelation = LinearRegression(fit_intercept=True)\n",
    "linearRegressionBodyRelation.fit(A[:, np.newaxis], B)\n",
    "\n",
    "xfit = np.linspace(0, 0.5, 1000)\n",
    "yfit = linearRegressionBodyRelation.predict(xfit[:, np.newaxis])\n",
    "\n",
    "plt.scatter(A, B, s=1, c=\"orange\")\n",
    "plt.plot(xfit, yfit);\n",
    "\n",
    "print(\"Model slope:    \", linearRegressionBodyRelation.coef_[0])\n",
    "print(\"Model intercept:\", linearRegressionBodyRelation.intercept_)\n",
    "print(\"R2 score:\", linearRegressionBodyRelation.score(A[:, np.newaxis], B))\n"
   ]
  },
  {
   "cell_type": "markdown",
   "metadata": {},
   "source": [
    "Title and Text relation (calculated via cosine similarity) does not appear to be highly correlated with the text veracity"
   ]
  },
  {
   "cell_type": "markdown",
   "metadata": {},
   "source": [
    "### Body - length"
   ]
  },
  {
   "cell_type": "code",
   "execution_count": 17,
   "metadata": {},
   "outputs": [
    {
     "name": "stdout",
     "output_type": "stream",
     "text": [
      "Model slope:     2.8672921260228005e-05\n",
      "Model intercept: 0.41180985978637996\n",
      "R2 score: 0.04612397796223433\n"
     ]
    },
    {
     "data": {
      "image/png": "[encoded data removed]",
      "text/plain": [
       "<Figure size 432x288 with 1 Axes>"
      ]
     },
     "metadata": {},
     "output_type": "display_data"
    }
   ],
   "source": [
    "dataAllBodyLength = dataAll.copy()\n",
    "for index, row in dataAllBodyLength.iterrows():\n",
    "    textLength = len(row['text'])\n",
    "    dataAllBodyLength.at[index, 'text_length'] = textLength\n",
    "\n",
    "\n",
    "import numpy as np\n",
    "import matplotlib.pyplot as plt\n",
    "\n",
    "from sklearn.linear_model import LinearRegression\n",
    "linearRegressionBodyLength = LinearRegression(fit_intercept=True)\n",
    "\n",
    "A = np.array(list(dataAllBodyLength.text_length))\n",
    "B = np.array(list(dataAllBodyLength.veracity))\n",
    "\n",
    "linearRegressionBodyLength.fit(A[:, np.newaxis], B)\n",
    "\n",
    "xfit = np.linspace(-1, max(dataAllBodyLength.text_length), 1000)\n",
    "yfit = linearRegressionBodyLength.predict(xfit[:, np.newaxis])\n",
    "\n",
    "plt.scatter(A, B, s=1, c=\"orange\")\n",
    "plt.plot(xfit, yfit);\n",
    "\n",
    "print(\"Model slope:    \", linearRegressionBodyLength.coef_[0])\n",
    "print(\"Model intercept:\", linearRegressionBodyLength.intercept_)\n",
    "print(\"R2 score:\", linearRegressionBodyLength.score(A[:, np.newaxis], B))"
   ]
  },
  {
   "cell_type": "code",
   "execution_count": 18,
   "metadata": {},
   "outputs": [
    {
     "name": "stdout",
     "output_type": "stream",
     "text": [
      "0.7105263157894737\n"
     ]
    }
   ],
   "source": [
    "for index, row in dataTrain.iterrows():\n",
    "    textLength = len(row['text'])\n",
    "    dataTrain.at[index, 'text_length'] = textLength\n",
    "\n",
    "for index, row in dataTest.iterrows():\n",
    "    textLength = len(row['text'])\n",
    "    dataTest.at[index, 'text_length'] = textLength\n",
    "\n",
    "from sklearn import linear_model\n",
    "# from sklearn import linear_model\n",
    "\n",
    "logClassifierBodyLength = linear_model.LogisticRegression(solver='liblinear', C=17/1000, random_state=111)\n",
    "logClassifierBodyLength.fit(dataTrain['text_length'].values.reshape(-1, 1), dataTrain['veracity'].values)\n",
    "\n",
    "predicted = logClassifierBodyLength.predict(dataTest['text_length'].values.reshape(-1, 1))\n",
    "\n",
    "from sklearn import metrics\n",
    "print(metrics.accuracy_score(dataTest['veracity'].values.reshape(-1, 1), predicted))"
   ]
  },
  {
   "cell_type": "code",
   "execution_count": 19,
   "metadata": {},
   "outputs": [
    {
     "name": "stdout",
     "output_type": "stream",
     "text": [
      "0.20395870093748913\n"
     ]
    }
   ],
   "source": [
    "def DATAMINERS_getBodyLengthScore(length): # return between 0 and 1, being 0 = True,  1 = Fake\n",
    "    x = np.array(length).reshape(-1, 1)\n",
    "    predicted = logClassifierBodyLength.predict(x)\n",
    "    predicedProb = logClassifierBodyLength.predict_proba(x)[:,1]\n",
    "    #return int(predicted), float(predicedProb)\n",
    "    return 1 - float(predicedProb)\n",
    "\n",
    "print(DATAMINERS_getBodyLengthScore(12000))"
   ]
  },
  {
   "cell_type": "markdown",
   "metadata": {},
   "source": [
    "### Body - Grammar Check"
   ]
  },
  {
   "cell_type": "code",
   "execution_count": 20,
   "metadata": {},
   "outputs": [],
   "source": [
    "#https://pypi.org/project/language-check/\n",
    "\n",
    "import language_check\n",
    "\n",
    "def calculateGrammarErrorsCount(text):\n",
    "    tool = language_check.LanguageTool('en-US')\n",
    "    #text = u'A sentence with a error in the Hitchhiker’s Guide to the Galaxy'\n",
    "    errors = tool.check(text)\n",
    "    return len(errors)\n",
    "\n",
    "#calculateNumGrammarErrors(\"Helo you!\")"
   ]
  },
  {
   "cell_type": "code",
   "execution_count": 21,
   "metadata": {},
   "outputs": [
    {
     "data": {
      "text/html": [
       "<div>\n",
       "<style scoped>\n",
       "    .dataframe tbody tr th:only-of-type {\n",
       "        vertical-align: middle;\n",
       "    }\n",
       "\n",
       "    .dataframe tbody tr th {\n",
       "        vertical-align: top;\n",
       "    }\n",
       "\n",
       "    .dataframe thead th {\n",
       "        text-align: right;\n",
       "    }\n",
       "</style>\n",
       "<table border=\"1\" class=\"dataframe\">\n",
       "  <thead>\n",
       "    <tr style=\"text-align: right;\">\n",
       "      <th></th>\n",
       "      <th>authors</th>\n",
       "      <th>canonical_link</th>\n",
       "      <th>images</th>\n",
       "      <th>source</th>\n",
       "      <th>text</th>\n",
       "      <th>title</th>\n",
       "      <th>url</th>\n",
       "      <th>veracity</th>\n",
       "      <th>text_length</th>\n",
       "      <th>grammar_errors_count</th>\n",
       "    </tr>\n",
       "  </thead>\n",
       "  <tbody>\n",
       "    <tr>\n",
       "      <th>0</th>\n",
       "      <td>[Jack Shafer, Burgess Everett, Seung Min Kim, ...</td>\n",
       "      <td>http://www.politico.com/story/2016/09/zika-fun...</td>\n",
       "      <td>[http://static.politico.com/ae/2d/1a0119fa45b8...</td>\n",
       "      <td>http://politi.co</td>\n",
       "      <td>\"I would encourage our colleagues across the a...</td>\n",
       "      <td>McConnell punts budget vote to buy time for deal</td>\n",
       "      <td>http://politi.co/2cksDqD</td>\n",
       "      <td>1</td>\n",
       "      <td>5702.0</td>\n",
       "      <td>19.0</td>\n",
       "    </tr>\n",
       "    <tr>\n",
       "      <th>1</th>\n",
       "      <td>[Colin Taylor, Grant Stern, Brett Bose, Natali...</td>\n",
       "      <td>http://occupydemocrats.com/2016/09/21/massive-...</td>\n",
       "      <td>[http://occupydemocrats.com/wp-content/uploads...</td>\n",
       "      <td>http://occupydemocrats.com</td>\n",
       "      <td>12k SHARES SHARE THIS STORY\\n\\nMassive protest...</td>\n",
       "      <td>Massive Protests Erupt In North Carolina After...</td>\n",
       "      <td>http://occupydemocrats.com/2016/09/21/massive-...</td>\n",
       "      <td>1</td>\n",
       "      <td>928.0</td>\n",
       "      <td>2.0</td>\n",
       "    </tr>\n",
       "    <tr>\n",
       "      <th>2</th>\n",
       "      <td>[]</td>\n",
       "      <td>http://rightwingnews.com/top-news/famous-dog-k...</td>\n",
       "      <td>[http://rightwingnews.com/wp-content/uploads/2...</td>\n",
       "      <td>http://rightwingnews.com</td>\n",
       "      <td>Famous dog killed in spot she waited a year fo...</td>\n",
       "      <td>Famous dog killed in spot she waited a year fo...</td>\n",
       "      <td>http://rightwingnews.com/top-news/famous-dog-k...</td>\n",
       "      <td>1</td>\n",
       "      <td>2297.0</td>\n",
       "      <td>12.0</td>\n",
       "    </tr>\n",
       "    <tr>\n",
       "      <th>3</th>\n",
       "      <td>[]</td>\n",
       "      <td>NaN</td>\n",
       "      <td>NaN</td>\n",
       "      <td></td>\n",
       "      <td>The University of North Dakota is investigatin...</td>\n",
       "      <td>'Locked the black bitch out': White students u...</td>\n",
       "      <td>NaN</td>\n",
       "      <td>1</td>\n",
       "      <td>1112.0</td>\n",
       "      <td>6.0</td>\n",
       "    </tr>\n",
       "    <tr>\n",
       "      <th>4</th>\n",
       "      <td>[Jack Shafer, Robert Strauss]</td>\n",
       "      <td>http://www.politico.com/magazine/story/2016/09...</td>\n",
       "      <td>[data:image/gif;base64,R0lGODlhAQABAAAAACH5BAE...</td>\n",
       "      <td>http://politi.co</td>\n",
       "      <td>As my 25th wedding anniversary approached, I t...</td>\n",
       "      <td>Worst. President. Ever.</td>\n",
       "      <td>http://politi.co/2cGdput</td>\n",
       "      <td>1</td>\n",
       "      <td>12463.0</td>\n",
       "      <td>20.0</td>\n",
       "    </tr>\n",
       "  </tbody>\n",
       "</table>\n",
       "</div>"
      ],
      "text/plain": [
       "                                             authors  \\\n",
       "0  [Jack Shafer, Burgess Everett, Seung Min Kim, ...   \n",
       "1  [Colin Taylor, Grant Stern, Brett Bose, Natali...   \n",
       "2                                                 []   \n",
       "3                                                 []   \n",
       "4                      [Jack Shafer, Robert Strauss]   \n",
       "\n",
       "                                      canonical_link  \\\n",
       "0  http://www.politico.com/story/2016/09/zika-fun...   \n",
       "1  http://occupydemocrats.com/2016/09/21/massive-...   \n",
       "2  http://rightwingnews.com/top-news/famous-dog-k...   \n",
       "3                                                NaN   \n",
       "4  http://www.politico.com/magazine/story/2016/09...   \n",
       "\n",
       "                                              images  \\\n",
       "0  [http://static.politico.com/ae/2d/1a0119fa45b8...   \n",
       "1  [http://occupydemocrats.com/wp-content/uploads...   \n",
       "2  [http://rightwingnews.com/wp-content/uploads/2...   \n",
       "3                                                NaN   \n",
       "4  [data:image/gif;base64,R0lGODlhAQABAAAAACH5BAE...   \n",
       "\n",
       "                       source  \\\n",
       "0            http://politi.co   \n",
       "1  http://occupydemocrats.com   \n",
       "2    http://rightwingnews.com   \n",
       "3                               \n",
       "4            http://politi.co   \n",
       "\n",
       "                                                text  \\\n",
       "0  \"I would encourage our colleagues across the a...   \n",
       "1  12k SHARES SHARE THIS STORY\\n\\nMassive protest...   \n",
       "2  Famous dog killed in spot she waited a year fo...   \n",
       "3  The University of North Dakota is investigatin...   \n",
       "4  As my 25th wedding anniversary approached, I t...   \n",
       "\n",
       "                                               title  \\\n",
       "0   McConnell punts budget vote to buy time for deal   \n",
       "1  Massive Protests Erupt In North Carolina After...   \n",
       "2  Famous dog killed in spot she waited a year fo...   \n",
       "3  'Locked the black bitch out': White students u...   \n",
       "4                            Worst. President. Ever.   \n",
       "\n",
       "                                                 url  veracity  text_length  \\\n",
       "0                           http://politi.co/2cksDqD         1       5702.0   \n",
       "1  http://occupydemocrats.com/2016/09/21/massive-...         1        928.0   \n",
       "2  http://rightwingnews.com/top-news/famous-dog-k...         1       2297.0   \n",
       "3                                                NaN         1       1112.0   \n",
       "4                           http://politi.co/2cGdput         1      12463.0   \n",
       "\n",
       "   grammar_errors_count  \n",
       "0                  19.0  \n",
       "1                   2.0  \n",
       "2                  12.0  \n",
       "3                   6.0  \n",
       "4                  20.0  "
      ]
     },
     "execution_count": 21,
     "metadata": {},
     "output_type": "execute_result"
    }
   ],
   "source": [
    "dataTrainGrammar = dataTrain.copy()\n",
    "dataTestGrammar = dataTest.copy()\n",
    "dataAllGrammar = dataAll.copy()\n",
    "\n",
    "for index, row in dataTrainGrammar.iterrows():\n",
    "    dataTrainGrammar.at[index, 'grammar_errors_count'] = calculateGrammarErrorsCount(row['title']) + calculateGrammarErrorsCount(row['text'])\n",
    "\n",
    "for index, row in dataTestGrammar.iterrows():\n",
    "    dataTestGrammar.at[index, 'grammar_errors_count'] = calculateGrammarErrorsCount(row['title']) + calculateGrammarErrorsCount(row['text'])\n",
    "    \n",
    "for index, row in dataAllGrammar.iterrows():\n",
    "    dataAllGrammar.at[index, 'grammar_errors_count'] = calculateGrammarErrorsCount(row['title']) + calculateGrammarErrorsCount(row['text'])\n",
    "    \n",
    "dataTrainGrammar.head()"
   ]
  },
  {
   "cell_type": "code",
   "execution_count": 22,
   "metadata": {},
   "outputs": [
    {
     "name": "stdout",
     "output_type": "stream",
     "text": [
      "Model slope:     0.006070454331972062\n",
      "Model intercept: 0.42093233232606386\n",
      "R2 score: 0.048057763461445524\n"
     ]
    },
    {
     "data": {
      "image/png": "[encoded data removed]",
      "text/plain": [
       "<Figure size 432x288 with 1 Axes>"
      ]
     },
     "metadata": {},
     "output_type": "display_data"
    }
   ],
   "source": [
    "A = np.array(list(dataAllGrammar.grammar_errors_count))\n",
    "B = np.array(list(dataAllGrammar.veracity))\n",
    "\n",
    "linearRegressionBodyGrammar = LinearRegression(fit_intercept=True)\n",
    "linearRegressionBodyGrammar.fit(A[:, np.newaxis], B)\n",
    "\n",
    "xfit = np.linspace(0, len(A), len(A))\n",
    "yfit = linearRegressionBodyGrammar.predict(xfit[:, np.newaxis])\n",
    "\n",
    "plt.scatter(A, B, s=10, c=\"orange\")\n",
    "plt.plot(xfit, yfit);\n",
    "\n",
    "print(\"Model slope:    \", linearRegressionBodyGrammar.coef_[0])\n",
    "print(\"Model intercept:\", linearRegressionBodyGrammar.intercept_)\n",
    "print(\"R2 score:\", linearRegressionBodyGrammar.score(A[:, np.newaxis], B))"
   ]
  },
  {
   "cell_type": "markdown",
   "metadata": {},
   "source": [
    "By the graphic, we can see that there is no clear relation between grammar errors and text veracity. If it weren't by some outliers, we would get a almost flat a horizontal line."
   ]
  },
  {
   "cell_type": "markdown",
   "metadata": {},
   "source": [
    "### Body - Sentiment"
   ]
  },
  {
   "cell_type": "markdown",
   "metadata": {},
   "source": [
    "I will be using Vader to do sentiment analysis"
   ]
  },
  {
   "cell_type": "code",
   "execution_count": 23,
   "metadata": {},
   "outputs": [
    {
     "name": "stdout",
     "output_type": "stream",
     "text": [
      "[nltk_data] Downloading package vader_lexicon to\n",
      "[nltk_data]     /Users/rsc/nltk_data...\n",
      "[nltk_data]   Package vader_lexicon is already up-to-date!\n"
     ]
    }
   ],
   "source": [
    "import nltk \n",
    "from nltk.sentiment.vader import SentimentIntensityAnalyzer\n",
    "nltk.download('vader_lexicon')\n",
    "sid = SentimentIntensityAnalyzer()"
   ]
  },
  {
   "cell_type": "code",
   "execution_count": 24,
   "metadata": {},
   "outputs": [
    {
     "data": {
      "text/html": [
       "<div>\n",
       "<style scoped>\n",
       "    .dataframe tbody tr th:only-of-type {\n",
       "        vertical-align: middle;\n",
       "    }\n",
       "\n",
       "    .dataframe tbody tr th {\n",
       "        vertical-align: top;\n",
       "    }\n",
       "\n",
       "    .dataframe thead th {\n",
       "        text-align: right;\n",
       "    }\n",
       "</style>\n",
       "<table border=\"1\" class=\"dataframe\">\n",
       "  <thead>\n",
       "    <tr style=\"text-align: right;\">\n",
       "      <th></th>\n",
       "      <th>text</th>\n",
       "      <th>veracity</th>\n",
       "      <th>text_length</th>\n",
       "      <th>sentiment</th>\n",
       "    </tr>\n",
       "  </thead>\n",
       "  <tbody>\n",
       "    <tr>\n",
       "      <th>0</th>\n",
       "      <td>\"I would encourage our colleagues across the a...</td>\n",
       "      <td>1</td>\n",
       "      <td>5702.0</td>\n",
       "      <td>0.8910</td>\n",
       "    </tr>\n",
       "    <tr>\n",
       "      <th>1</th>\n",
       "      <td>12k SHARES SHARE THIS STORY\\n\\nMassive protest...</td>\n",
       "      <td>1</td>\n",
       "      <td>928.0</td>\n",
       "      <td>-0.9452</td>\n",
       "    </tr>\n",
       "    <tr>\n",
       "      <th>2</th>\n",
       "      <td>Famous dog killed in spot she waited a year fo...</td>\n",
       "      <td>1</td>\n",
       "      <td>2297.0</td>\n",
       "      <td>-0.9474</td>\n",
       "    </tr>\n",
       "    <tr>\n",
       "      <th>3</th>\n",
       "      <td>The University of North Dakota is investigatin...</td>\n",
       "      <td>1</td>\n",
       "      <td>1112.0</td>\n",
       "      <td>0.2732</td>\n",
       "    </tr>\n",
       "    <tr>\n",
       "      <th>4</th>\n",
       "      <td>As my 25th wedding anniversary approached, I t...</td>\n",
       "      <td>1</td>\n",
       "      <td>12463.0</td>\n",
       "      <td>-0.9712</td>\n",
       "    </tr>\n",
       "  </tbody>\n",
       "</table>\n",
       "</div>"
      ],
      "text/plain": [
       "                                                text  veracity  text_length  \\\n",
       "0  \"I would encourage our colleagues across the a...         1       5702.0   \n",
       "1  12k SHARES SHARE THIS STORY\\n\\nMassive protest...         1        928.0   \n",
       "2  Famous dog killed in spot she waited a year fo...         1       2297.0   \n",
       "3  The University of North Dakota is investigatin...         1       1112.0   \n",
       "4  As my 25th wedding anniversary approached, I t...         1      12463.0   \n",
       "\n",
       "   sentiment  \n",
       "0     0.8910  \n",
       "1    -0.9452  \n",
       "2    -0.9474  \n",
       "3     0.2732  \n",
       "4    -0.9712  "
      ]
     },
     "execution_count": 24,
     "metadata": {},
     "output_type": "execute_result"
    }
   ],
   "source": [
    "dataTrainSentiment = dataTrain.copy()\n",
    "dataTestSentiment = dataTest.copy()\n",
    "columnsToRemove = ['authors', 'canonical_link', 'images', 'title', 'source','url']\n",
    "dataTrainSentiment = dataTrainSentiment.drop(columns = columnsToRemove)\n",
    "dataTestSentiment = dataTestSentiment.drop(columns = columnsToRemove)\n",
    "\n",
    "\n",
    "def addSentiment(sentence):\n",
    "    ss = sid.polarity_scores(sentence)\n",
    "    sValue = ss[\"compound\"]\n",
    "    sName = \"neutral\"\n",
    "    if sValue > 0.0: \n",
    "        sName = \"positive\"\n",
    "    elif sValue < 0.0:\n",
    "        sName = \"negative\"\n",
    "    return sValue\n",
    "\n",
    "\n",
    "for index, row in dataTrainSentiment.iterrows():\n",
    "    dataTrainSentiment.at[index, 'sentiment'] = addSentiment(row['text'])\n",
    "    \n",
    "dataTrainSentiment.head()"
   ]
  },
  {
   "cell_type": "code",
   "execution_count": 25,
   "metadata": {},
   "outputs": [
    {
     "name": "stdout",
     "output_type": "stream",
     "text": [
      "Model slope:     -0.002326980984717965\n",
      "Model intercept: 0.4997920505077912\n",
      "R2 score: 1.5769950133526223e-05\n"
     ]
    },
    {
     "data": {
      "image/png": "[encoded data removed]",
      "text/plain": [
       "<Figure size 432x288 with 1 Axes>"
      ]
     },
     "metadata": {},
     "output_type": "display_data"
    }
   ],
   "source": [
    "A = np.array(list(dataTrainSentiment.sentiment))\n",
    "B = np.array(list(dataTrainSentiment.veracity))\n",
    "\n",
    "linearRegressionBodySentiment = LinearRegression(fit_intercept=True)\n",
    "linearRegressionBodySentiment.fit(A[:, np.newaxis], B)\n",
    "\n",
    "xfit = np.linspace(-1, 1, 1000)\n",
    "yfit = linearRegressionBodySentiment.predict(xfit[:, np.newaxis])\n",
    "\n",
    "plt.scatter(A, B, s=1, c=\"orange\")\n",
    "plt.plot(xfit, yfit);\n",
    "\n",
    "print(\"Model slope:    \", linearRegressionBodySentiment.coef_[0])\n",
    "print(\"Model intercept:\", linearRegressionBodySentiment.intercept_)\n",
    "print(\"R2 score:\", linearRegressionBodySentiment.score(A[:, np.newaxis], B))"
   ]
  },
  {
   "cell_type": "markdown",
   "metadata": {},
   "source": [
    "As we had to the Liar Liar dataset, the PolitiFact dataset does not show correlation between the text sentiment with the text veracity"
   ]
  },
  {
   "cell_type": "markdown",
   "metadata": {},
   "source": [
    "### Body - Words Frequency"
   ]
  },
  {
   "cell_type": "code",
   "execution_count": 26,
   "metadata": {},
   "outputs": [
    {
     "name": "stdout",
     "output_type": "stream",
     "text": [
      "Word Frequency Model Trained - accuracy:   0.599053\n"
     ]
    }
   ],
   "source": [
    "from ipynb.fs.full.m_wordfrequency import WordFrequency\n",
    "wordFrequency = WordFrequency()"
   ]
  },
  {
   "cell_type": "code",
   "execution_count": 27,
   "metadata": {},
   "outputs": [
    {
     "name": "stdout",
     "output_type": "stream",
     "text": [
      "0.5104703891221564\n"
     ]
    }
   ],
   "source": [
    "def DATAMINERS_getWordFrequencyScore(text):  # return between 0 and 1, being 0 = True,  1 = Fake\n",
    "    #print(clickBait.predict(\"Should You bring the money now\"))\n",
    "    binaryValue, probValue = wordFrequency.predict(text)\n",
    "    return (1 - float(probValue))\n",
    "\n",
    "print(DATAMINERS_getWordFrequencyScore(\"Says the Annies List political group supports third-trimester abortions on demand.\"))"
   ]
  },
  {
   "cell_type": "markdown",
   "metadata": {},
   "source": [
    "### Source Reputation"
   ]
  },
  {
   "cell_type": "code",
   "execution_count": 28,
   "metadata": {},
   "outputs": [
    {
     "data": {
      "text/html": [
       "<div>\n",
       "<style scoped>\n",
       "    .dataframe tbody tr th:only-of-type {\n",
       "        vertical-align: middle;\n",
       "    }\n",
       "\n",
       "    .dataframe tbody tr th {\n",
       "        vertical-align: top;\n",
       "    }\n",
       "\n",
       "    .dataframe thead th {\n",
       "        text-align: right;\n",
       "    }\n",
       "</style>\n",
       "<table border=\"1\" class=\"dataframe\">\n",
       "  <thead>\n",
       "    <tr style=\"text-align: right;\">\n",
       "      <th></th>\n",
       "      <th>site name</th>\n",
       "      <th>type of site</th>\n",
       "      <th>registration</th>\n",
       "    </tr>\n",
       "  </thead>\n",
       "  <tbody>\n",
       "    <tr>\n",
       "      <th>0</th>\n",
       "      <td>16wmpo.com</td>\n",
       "      <td>imposter site</td>\n",
       "      <td>scottsdale, ariz. **</td>\n",
       "    </tr>\n",
       "    <tr>\n",
       "      <th>1</th>\n",
       "      <td>24online.news</td>\n",
       "      <td>imposter site</td>\n",
       "      <td>panama, pa. **</td>\n",
       "    </tr>\n",
       "    <tr>\n",
       "      <th>2</th>\n",
       "      <td>24wpn.com</td>\n",
       "      <td>fake news</td>\n",
       "      <td>veles, macedonia</td>\n",
       "    </tr>\n",
       "    <tr>\n",
       "      <th>3</th>\n",
       "      <td>24x365live.com</td>\n",
       "      <td>fake news</td>\n",
       "      <td>kobenhavn, denmark</td>\n",
       "    </tr>\n",
       "    <tr>\n",
       "      <th>4</th>\n",
       "      <td>247newsmedia.com</td>\n",
       "      <td>fake news</td>\n",
       "      <td>kumanovo, macedonia</td>\n",
       "    </tr>\n",
       "  </tbody>\n",
       "</table>\n",
       "</div>"
      ],
      "text/plain": [
       "          site name   type of site          registration\n",
       "0        16wmpo.com  imposter site  scottsdale, ariz. **\n",
       "1     24online.news  imposter site        panama, pa. **\n",
       "2         24wpn.com      fake news      veles, macedonia\n",
       "3    24x365live.com      fake news   kobenhavn, denmark \n",
       "4  247newsmedia.com      fake news   kumanovo, macedonia"
      ]
     },
     "execution_count": 28,
     "metadata": {},
     "output_type": "execute_result"
    }
   ],
   "source": [
    "import pandas as pd\n",
    "dataFakeNewsSites = pd.read_csv(\"data/politifact-fakenews-sites.csv\")\n",
    "dataFakeNewsSites.head()"
   ]
  },
  {
   "cell_type": "code",
   "execution_count": 29,
   "metadata": {},
   "outputs": [
    {
     "data": {
      "text/plain": [
       "array(['imposter site', 'fake news', 'parody site', 'some fake stories'],\n",
       "      dtype=object)"
      ]
     },
     "execution_count": 29,
     "metadata": {},
     "output_type": "execute_result"
    }
   ],
   "source": [
    "dataFakeNewsSites['type of site'].unique()"
   ]
  },
  {
   "cell_type": "markdown",
   "metadata": {},
   "source": [
    "As we can see, the sources are classified in different categories. Almost are all fake (fake news, parody,..) except the category 'some fake stories'. So let's hot encode those categories as 1 for fake news and 0.5 for some fake news."
   ]
  },
  {
   "cell_type": "code",
   "execution_count": 30,
   "metadata": {},
   "outputs": [
    {
     "data": {
      "text/html": [
       "<div>\n",
       "<style scoped>\n",
       "    .dataframe tbody tr th:only-of-type {\n",
       "        vertical-align: middle;\n",
       "    }\n",
       "\n",
       "    .dataframe tbody tr th {\n",
       "        vertical-align: top;\n",
       "    }\n",
       "\n",
       "    .dataframe thead th {\n",
       "        text-align: right;\n",
       "    }\n",
       "</style>\n",
       "<table border=\"1\" class=\"dataframe\">\n",
       "  <thead>\n",
       "    <tr style=\"text-align: right;\">\n",
       "      <th></th>\n",
       "      <th>site name</th>\n",
       "      <th>type of site</th>\n",
       "      <th>registration</th>\n",
       "      <th>fake_score</th>\n",
       "    </tr>\n",
       "  </thead>\n",
       "  <tbody>\n",
       "    <tr>\n",
       "      <th>0</th>\n",
       "      <td>16wmpo.com</td>\n",
       "      <td>imposter site</td>\n",
       "      <td>scottsdale, ariz. **</td>\n",
       "      <td>1.0</td>\n",
       "    </tr>\n",
       "    <tr>\n",
       "      <th>1</th>\n",
       "      <td>24online.news</td>\n",
       "      <td>imposter site</td>\n",
       "      <td>panama, pa. **</td>\n",
       "      <td>1.0</td>\n",
       "    </tr>\n",
       "    <tr>\n",
       "      <th>2</th>\n",
       "      <td>24wpn.com</td>\n",
       "      <td>fake news</td>\n",
       "      <td>veles, macedonia</td>\n",
       "      <td>1.0</td>\n",
       "    </tr>\n",
       "    <tr>\n",
       "      <th>3</th>\n",
       "      <td>24x365live.com</td>\n",
       "      <td>fake news</td>\n",
       "      <td>kobenhavn, denmark</td>\n",
       "      <td>1.0</td>\n",
       "    </tr>\n",
       "    <tr>\n",
       "      <th>4</th>\n",
       "      <td>247newsmedia.com</td>\n",
       "      <td>fake news</td>\n",
       "      <td>kumanovo, macedonia</td>\n",
       "      <td>1.0</td>\n",
       "    </tr>\n",
       "  </tbody>\n",
       "</table>\n",
       "</div>"
      ],
      "text/plain": [
       "          site name   type of site          registration  fake_score\n",
       "0        16wmpo.com  imposter site  scottsdale, ariz. **         1.0\n",
       "1     24online.news  imposter site        panama, pa. **         1.0\n",
       "2         24wpn.com      fake news      veles, macedonia         1.0\n",
       "3    24x365live.com      fake news   kobenhavn, denmark          1.0\n",
       "4  247newsmedia.com      fake news   kumanovo, macedonia         1.0"
      ]
     },
     "execution_count": 30,
     "metadata": {},
     "output_type": "execute_result"
    }
   ],
   "source": [
    "for index, row in dataFakeNewsSites.iterrows():\n",
    "    score = 1\n",
    "    if (row['type of site'] == 'some fake stories'):\n",
    "        score = 0.5\n",
    "    dataFakeNewsSites.at[index, 'fake_score'] = score\n",
    "\n",
    "dataFakeNewsSites.head()"
   ]
  },
  {
   "cell_type": "code",
   "execution_count": 31,
   "metadata": {},
   "outputs": [
    {
     "data": {
      "text/plain": [
       "1"
      ]
     },
     "execution_count": 31,
     "metadata": {},
     "output_type": "execute_result"
    }
   ],
   "source": [
    "def DATAMINERS_getSourceReputationScore(source): # return between 0 and 1, being 0 = True,  1 = Fake\n",
    "    if (source == \"\"):\n",
    "        return 0\n",
    "    d = dataFakeNewsSites[dataFakeNewsSites['site name'].str.match(source)]\n",
    "    if (d['fake_score'].empty):\n",
    "        return 0\n",
    "    return int(d['fake_score'].values)\n",
    "\n",
    "\n",
    "DATAMINERS_getSourceReputationScore('24wpn')"
   ]
  },
  {
   "cell_type": "markdown",
   "metadata": {},
   "source": [
    "# FINAL COMBINED MODEL"
   ]
  },
  {
   "cell_type": "code",
   "execution_count": 32,
   "metadata": {},
   "outputs": [
    {
     "name": "stdout",
     "output_type": "stream",
     "text": [
      "it is NOT fake news!!!\n"
     ]
    },
    {
     "name": "stderr",
     "output_type": "stream",
     "text": [
      "/anaconda3/lib/python3.6/site-packages/sklearn/utils/validation.py:590: DataConversionWarning: Data with input dtype int64 was converted to float64 by StandardScaler.\n",
      "  warnings.warn(msg, DataConversionWarning)\n"
     ]
    }
   ],
   "source": [
    "# import warnings\n",
    "# warnings.filterwarnings('ignore')\n",
    "\n",
    "def isFakeNews(text, headline=\"\", numAuthors = 0, source = \"\", party =\"\"):\n",
    "    accur = [0.84, 0.56, 0.98, 0.71, 0.6, 1] # using the (normalized) accuracy as weigths\n",
    "    w = [float(i)/sum(accur) for i in accur]\n",
    "    sumW = 0\n",
    "    prob = []\n",
    "    prob.append(w[0] * DATAMINERS_getAuthorScore(numAuthors))\n",
    "    sumW += w[0]\n",
    "    if ( (headline != \"\") & (party != \"\")):\n",
    "        prob.append(w[1] * DATAMINERS_getPartyAffiliationScore(headline, party))\n",
    "        sumW += w[1]\n",
    "    if (headline != \"\"):\n",
    "        prob.append(w[2] * DATAMINERS_getClickbaitScore(headline))\n",
    "        sumW += w[2]\n",
    "    prob.append(w[3] * DATAMINERS_getBodyLengthScore(len(text)))\n",
    "    sumW += w[3]\n",
    "    prob.append(w[4] * DATAMINERS_getWordFrequencyScore(text))\n",
    "    sumW += w[4]\n",
    "    if (party != \"\"):\n",
    "        prob.append(w[5] * DATAMINERS_getSourceReputationScore(source))\n",
    "        sumW += w[5]\n",
    "    \n",
    "    probTotal = sum(prob[0:len(prob)]) / sumW\n",
    "    return probTotal\n",
    "    \n",
    "result = isFakeNews(\"Yesterday, the Brazilian soccer team won the world cup by defeating Argentina\", \"World Cup ends\", 1, \"cnn.com\", \"republican\")\n",
    "\n",
    "if result > 0.5:\n",
    "    print(\"is FAKE NEWS!!!\")\n",
    "else:\n",
    "    print(\"it is NOT fake news!!!\")\n",
    "            "
   ]
  },
  {
   "cell_type": "markdown",
   "metadata": {},
   "source": [
    "## Performance analysis "
   ]
  },
  {
   "cell_type": "code",
   "execution_count": 33,
   "metadata": {
    "scrolled": false
   },
   "outputs": [
    {
     "name": "stderr",
     "output_type": "stream",
     "text": [
      "/anaconda3/lib/python3.6/site-packages/sklearn/utils/validation.py:590: DataConversionWarning: Data with input dtype int64 was converted to float64 by StandardScaler.\n",
      "  warnings.warn(msg, DataConversionWarning)\n",
      "/anaconda3/lib/python3.6/site-packages/sklearn/utils/validation.py:590: DataConversionWarning: Data with input dtype int64 was converted to float64 by StandardScaler.\n",
      "  warnings.warn(msg, DataConversionWarning)\n",
      "/anaconda3/lib/python3.6/site-packages/sklearn/utils/validation.py:590: DataConversionWarning: Data with input dtype int64 was converted to float64 by StandardScaler.\n",
      "  warnings.warn(msg, DataConversionWarning)\n",
      "/anaconda3/lib/python3.6/site-packages/sklearn/utils/validation.py:590: DataConversionWarning: Data with input dtype int64 was converted to float64 by StandardScaler.\n",
      "  warnings.warn(msg, DataConversionWarning)\n",
      "/anaconda3/lib/python3.6/site-packages/sklearn/utils/validation.py:590: DataConversionWarning: Data with input dtype int64 was converted to float64 by StandardScaler.\n",
      "  warnings.warn(msg, DataConversionWarning)\n",
      "/anaconda3/lib/python3.6/site-packages/sklearn/utils/validation.py:590: DataConversionWarning: Data with input dtype int64 was converted to float64 by StandardScaler.\n",
      "  warnings.warn(msg, DataConversionWarning)\n",
      "/anaconda3/lib/python3.6/site-packages/sklearn/utils/validation.py:590: DataConversionWarning: Data with input dtype int64 was converted to float64 by StandardScaler.\n",
      "  warnings.warn(msg, DataConversionWarning)\n",
      "/anaconda3/lib/python3.6/site-packages/sklearn/utils/validation.py:590: DataConversionWarning: Data with input dtype int64 was converted to float64 by StandardScaler.\n",
      "  warnings.warn(msg, DataConversionWarning)\n",
      "/anaconda3/lib/python3.6/site-packages/sklearn/utils/validation.py:590: DataConversionWarning: Data with input dtype int64 was converted to float64 by StandardScaler.\n",
      "  warnings.warn(msg, DataConversionWarning)\n",
      "/anaconda3/lib/python3.6/site-packages/sklearn/utils/validation.py:590: DataConversionWarning: Data with input dtype int64 was converted to float64 by StandardScaler.\n",
      "  warnings.warn(msg, DataConversionWarning)\n",
      "/anaconda3/lib/python3.6/site-packages/sklearn/utils/validation.py:590: DataConversionWarning: Data with input dtype int64 was converted to float64 by StandardScaler.\n",
      "  warnings.warn(msg, DataConversionWarning)\n",
      "/anaconda3/lib/python3.6/site-packages/sklearn/utils/validation.py:590: DataConversionWarning: Data with input dtype int64 was converted to float64 by StandardScaler.\n",
      "  warnings.warn(msg, DataConversionWarning)\n",
      "/anaconda3/lib/python3.6/site-packages/sklearn/utils/validation.py:590: DataConversionWarning: Data with input dtype int64 was converted to float64 by StandardScaler.\n",
      "  warnings.warn(msg, DataConversionWarning)\n",
      "/anaconda3/lib/python3.6/site-packages/sklearn/utils/validation.py:590: DataConversionWarning: Data with input dtype int64 was converted to float64 by StandardScaler.\n",
      "  warnings.warn(msg, DataConversionWarning)\n",
      "/anaconda3/lib/python3.6/site-packages/sklearn/utils/validation.py:590: DataConversionWarning: Data with input dtype int64 was converted to float64 by StandardScaler.\n",
      "  warnings.warn(msg, DataConversionWarning)\n",
      "/anaconda3/lib/python3.6/site-packages/sklearn/utils/validation.py:590: DataConversionWarning: Data with input dtype int64 was converted to float64 by StandardScaler.\n",
      "  warnings.warn(msg, DataConversionWarning)\n",
      "/anaconda3/lib/python3.6/site-packages/sklearn/utils/validation.py:590: DataConversionWarning: Data with input dtype int64 was converted to float64 by StandardScaler.\n",
      "  warnings.warn(msg, DataConversionWarning)\n",
      "/anaconda3/lib/python3.6/site-packages/sklearn/utils/validation.py:590: DataConversionWarning: Data with input dtype int64 was converted to float64 by StandardScaler.\n",
      "  warnings.warn(msg, DataConversionWarning)\n",
      "/anaconda3/lib/python3.6/site-packages/sklearn/utils/validation.py:590: DataConversionWarning: Data with input dtype int64 was converted to float64 by StandardScaler.\n",
      "  warnings.warn(msg, DataConversionWarning)\n",
      "/anaconda3/lib/python3.6/site-packages/sklearn/utils/validation.py:590: DataConversionWarning: Data with input dtype int64 was converted to float64 by StandardScaler.\n",
      "  warnings.warn(msg, DataConversionWarning)\n",
      "/anaconda3/lib/python3.6/site-packages/sklearn/utils/validation.py:590: DataConversionWarning: Data with input dtype int64 was converted to float64 by StandardScaler.\n",
      "  warnings.warn(msg, DataConversionWarning)\n",
      "/anaconda3/lib/python3.6/site-packages/sklearn/utils/validation.py:590: DataConversionWarning: Data with input dtype int64 was converted to float64 by StandardScaler.\n",
      "  warnings.warn(msg, DataConversionWarning)\n",
      "/anaconda3/lib/python3.6/site-packages/sklearn/utils/validation.py:590: DataConversionWarning: Data with input dtype int64 was converted to float64 by StandardScaler.\n",
      "  warnings.warn(msg, DataConversionWarning)\n",
      "/anaconda3/lib/python3.6/site-packages/sklearn/utils/validation.py:590: DataConversionWarning: Data with input dtype int64 was converted to float64 by StandardScaler.\n",
      "  warnings.warn(msg, DataConversionWarning)\n",
      "/anaconda3/lib/python3.6/site-packages/sklearn/utils/validation.py:590: DataConversionWarning: Data with input dtype int64 was converted to float64 by StandardScaler.\n",
      "  warnings.warn(msg, DataConversionWarning)\n",
      "/anaconda3/lib/python3.6/site-packages/sklearn/utils/validation.py:590: DataConversionWarning: Data with input dtype int64 was converted to float64 by StandardScaler.\n",
      "  warnings.warn(msg, DataConversionWarning)\n",
      "/anaconda3/lib/python3.6/site-packages/sklearn/utils/validation.py:590: DataConversionWarning: Data with input dtype int64 was converted to float64 by StandardScaler.\n",
      "  warnings.warn(msg, DataConversionWarning)\n",
      "/anaconda3/lib/python3.6/site-packages/sklearn/utils/validation.py:590: DataConversionWarning: Data with input dtype int64 was converted to float64 by StandardScaler.\n",
      "  warnings.warn(msg, DataConversionWarning)\n",
      "/anaconda3/lib/python3.6/site-packages/sklearn/utils/validation.py:590: DataConversionWarning: Data with input dtype int64 was converted to float64 by StandardScaler.\n",
      "  warnings.warn(msg, DataConversionWarning)\n",
      "/anaconda3/lib/python3.6/site-packages/sklearn/utils/validation.py:590: DataConversionWarning: Data with input dtype int64 was converted to float64 by StandardScaler.\n",
      "  warnings.warn(msg, DataConversionWarning)\n",
      "/anaconda3/lib/python3.6/site-packages/sklearn/utils/validation.py:590: DataConversionWarning: Data with input dtype int64 was converted to float64 by StandardScaler.\n",
      "  warnings.warn(msg, DataConversionWarning)\n",
      "/anaconda3/lib/python3.6/site-packages/sklearn/utils/validation.py:590: DataConversionWarning: Data with input dtype int64 was converted to float64 by StandardScaler.\n",
      "  warnings.warn(msg, DataConversionWarning)\n",
      "/anaconda3/lib/python3.6/site-packages/sklearn/utils/validation.py:590: DataConversionWarning: Data with input dtype int64 was converted to float64 by StandardScaler.\n",
      "  warnings.warn(msg, DataConversionWarning)\n"
     ]
    },
    {
     "name": "stdout",
     "output_type": "stream",
     "text": [
      "truePos= 17\n",
      "trueNeg= 6\n",
      "falsePos= 2\n",
      "falseNeg= 13\n",
      "accuracy= 0.5666666666666667\n"
     ]
    },
    {
     "name": "stderr",
     "output_type": "stream",
     "text": [
      "/anaconda3/lib/python3.6/site-packages/sklearn/utils/validation.py:590: DataConversionWarning: Data with input dtype int64 was converted to float64 by StandardScaler.\n",
      "  warnings.warn(msg, DataConversionWarning)\n",
      "/anaconda3/lib/python3.6/site-packages/sklearn/utils/validation.py:590: DataConversionWarning: Data with input dtype int64 was converted to float64 by StandardScaler.\n",
      "  warnings.warn(msg, DataConversionWarning)\n",
      "/anaconda3/lib/python3.6/site-packages/sklearn/utils/validation.py:590: DataConversionWarning: Data with input dtype int64 was converted to float64 by StandardScaler.\n",
      "  warnings.warn(msg, DataConversionWarning)\n",
      "/anaconda3/lib/python3.6/site-packages/sklearn/utils/validation.py:590: DataConversionWarning: Data with input dtype int64 was converted to float64 by StandardScaler.\n",
      "  warnings.warn(msg, DataConversionWarning)\n",
      "/anaconda3/lib/python3.6/site-packages/sklearn/utils/validation.py:590: DataConversionWarning: Data with input dtype int64 was converted to float64 by StandardScaler.\n",
      "  warnings.warn(msg, DataConversionWarning)\n"
     ]
    }
   ],
   "source": [
    "truePos = 0\n",
    "trueNeg = 0\n",
    "falsePos = 0\n",
    "falseNeg = 0\n",
    "for index, row in dataTest.iterrows():\n",
    "    text = row['text']\n",
    "    headline= row['title']\n",
    "    numAuthors = len(row['authors'])\n",
    "    source = row['source']\n",
    "    party = \"\"\n",
    "    if 'party' in dataTest.columns:\n",
    "        party = row['party']\n",
    "    pred = isFakeNews(text, headline, numAuthors, source, party)\n",
    "    if ((row['veracity'] == 1) &  (pred < 0.5) ):\n",
    "        truePos += 1\n",
    "    elif ((row['veracity'] == 0) & (pred >= 0.5) ):\n",
    "        trueNeg += 1\n",
    "    elif ((row['veracity'] == 1) &  (pred >= 0.5) ):\n",
    "        falsePos += 1            \n",
    "    elif ((row['veracity'] == 0) &  (pred < 0.5) ):\n",
    "        falseNeg += 1\n",
    "        \n",
    "print(\"truePos=\", truePos)\n",
    "print(\"trueNeg=\", trueNeg)\n",
    "print(\"falsePos=\", falsePos)\n",
    "print(\"falseNeg=\", falseNeg)\n",
    "print(\"accuracy=\", (truePos/(truePos+falseNeg)))"
   ]
  },
  {
   "cell_type": "markdown",
   "metadata": {},
   "source": [
    "If we add some error margin, let's say 10p.p to make our model only trust the results beyong that margin, we have:\n",
    "    "
   ]
  },
  {
   "cell_type": "code",
   "execution_count": 34,
   "metadata": {
    "scrolled": true
   },
   "outputs": [
    {
     "name": "stderr",
     "output_type": "stream",
     "text": [
      "/anaconda3/lib/python3.6/site-packages/sklearn/utils/validation.py:590: DataConversionWarning: Data with input dtype int64 was converted to float64 by StandardScaler.\n",
      "  warnings.warn(msg, DataConversionWarning)\n",
      "/anaconda3/lib/python3.6/site-packages/sklearn/utils/validation.py:590: DataConversionWarning: Data with input dtype int64 was converted to float64 by StandardScaler.\n",
      "  warnings.warn(msg, DataConversionWarning)\n",
      "/anaconda3/lib/python3.6/site-packages/sklearn/utils/validation.py:590: DataConversionWarning: Data with input dtype int64 was converted to float64 by StandardScaler.\n",
      "  warnings.warn(msg, DataConversionWarning)\n",
      "/anaconda3/lib/python3.6/site-packages/sklearn/utils/validation.py:590: DataConversionWarning: Data with input dtype int64 was converted to float64 by StandardScaler.\n",
      "  warnings.warn(msg, DataConversionWarning)\n",
      "/anaconda3/lib/python3.6/site-packages/sklearn/utils/validation.py:590: DataConversionWarning: Data with input dtype int64 was converted to float64 by StandardScaler.\n",
      "  warnings.warn(msg, DataConversionWarning)\n",
      "/anaconda3/lib/python3.6/site-packages/sklearn/utils/validation.py:590: DataConversionWarning: Data with input dtype int64 was converted to float64 by StandardScaler.\n",
      "  warnings.warn(msg, DataConversionWarning)\n",
      "/anaconda3/lib/python3.6/site-packages/sklearn/utils/validation.py:590: DataConversionWarning: Data with input dtype int64 was converted to float64 by StandardScaler.\n",
      "  warnings.warn(msg, DataConversionWarning)\n",
      "/anaconda3/lib/python3.6/site-packages/sklearn/utils/validation.py:590: DataConversionWarning: Data with input dtype int64 was converted to float64 by StandardScaler.\n",
      "  warnings.warn(msg, DataConversionWarning)\n",
      "/anaconda3/lib/python3.6/site-packages/sklearn/utils/validation.py:590: DataConversionWarning: Data with input dtype int64 was converted to float64 by StandardScaler.\n",
      "  warnings.warn(msg, DataConversionWarning)\n",
      "/anaconda3/lib/python3.6/site-packages/sklearn/utils/validation.py:590: DataConversionWarning: Data with input dtype int64 was converted to float64 by StandardScaler.\n",
      "  warnings.warn(msg, DataConversionWarning)\n",
      "/anaconda3/lib/python3.6/site-packages/sklearn/utils/validation.py:590: DataConversionWarning: Data with input dtype int64 was converted to float64 by StandardScaler.\n",
      "  warnings.warn(msg, DataConversionWarning)\n",
      "/anaconda3/lib/python3.6/site-packages/sklearn/utils/validation.py:590: DataConversionWarning: Data with input dtype int64 was converted to float64 by StandardScaler.\n",
      "  warnings.warn(msg, DataConversionWarning)\n",
      "/anaconda3/lib/python3.6/site-packages/sklearn/utils/validation.py:590: DataConversionWarning: Data with input dtype int64 was converted to float64 by StandardScaler.\n",
      "  warnings.warn(msg, DataConversionWarning)\n",
      "/anaconda3/lib/python3.6/site-packages/sklearn/utils/validation.py:590: DataConversionWarning: Data with input dtype int64 was converted to float64 by StandardScaler.\n",
      "  warnings.warn(msg, DataConversionWarning)\n",
      "/anaconda3/lib/python3.6/site-packages/sklearn/utils/validation.py:590: DataConversionWarning: Data with input dtype int64 was converted to float64 by StandardScaler.\n",
      "  warnings.warn(msg, DataConversionWarning)\n",
      "/anaconda3/lib/python3.6/site-packages/sklearn/utils/validation.py:590: DataConversionWarning: Data with input dtype int64 was converted to float64 by StandardScaler.\n",
      "  warnings.warn(msg, DataConversionWarning)\n",
      "/anaconda3/lib/python3.6/site-packages/sklearn/utils/validation.py:590: DataConversionWarning: Data with input dtype int64 was converted to float64 by StandardScaler.\n",
      "  warnings.warn(msg, DataConversionWarning)\n",
      "/anaconda3/lib/python3.6/site-packages/sklearn/utils/validation.py:590: DataConversionWarning: Data with input dtype int64 was converted to float64 by StandardScaler.\n",
      "  warnings.warn(msg, DataConversionWarning)\n",
      "/anaconda3/lib/python3.6/site-packages/sklearn/utils/validation.py:590: DataConversionWarning: Data with input dtype int64 was converted to float64 by StandardScaler.\n",
      "  warnings.warn(msg, DataConversionWarning)\n",
      "/anaconda3/lib/python3.6/site-packages/sklearn/utils/validation.py:590: DataConversionWarning: Data with input dtype int64 was converted to float64 by StandardScaler.\n",
      "  warnings.warn(msg, DataConversionWarning)\n",
      "/anaconda3/lib/python3.6/site-packages/sklearn/utils/validation.py:590: DataConversionWarning: Data with input dtype int64 was converted to float64 by StandardScaler.\n",
      "  warnings.warn(msg, DataConversionWarning)\n",
      "/anaconda3/lib/python3.6/site-packages/sklearn/utils/validation.py:590: DataConversionWarning: Data with input dtype int64 was converted to float64 by StandardScaler.\n",
      "  warnings.warn(msg, DataConversionWarning)\n",
      "/anaconda3/lib/python3.6/site-packages/sklearn/utils/validation.py:590: DataConversionWarning: Data with input dtype int64 was converted to float64 by StandardScaler.\n",
      "  warnings.warn(msg, DataConversionWarning)\n",
      "/anaconda3/lib/python3.6/site-packages/sklearn/utils/validation.py:590: DataConversionWarning: Data with input dtype int64 was converted to float64 by StandardScaler.\n",
      "  warnings.warn(msg, DataConversionWarning)\n",
      "/anaconda3/lib/python3.6/site-packages/sklearn/utils/validation.py:590: DataConversionWarning: Data with input dtype int64 was converted to float64 by StandardScaler.\n",
      "  warnings.warn(msg, DataConversionWarning)\n",
      "/anaconda3/lib/python3.6/site-packages/sklearn/utils/validation.py:590: DataConversionWarning: Data with input dtype int64 was converted to float64 by StandardScaler.\n",
      "  warnings.warn(msg, DataConversionWarning)\n",
      "/anaconda3/lib/python3.6/site-packages/sklearn/utils/validation.py:590: DataConversionWarning: Data with input dtype int64 was converted to float64 by StandardScaler.\n",
      "  warnings.warn(msg, DataConversionWarning)\n",
      "/anaconda3/lib/python3.6/site-packages/sklearn/utils/validation.py:590: DataConversionWarning: Data with input dtype int64 was converted to float64 by StandardScaler.\n",
      "  warnings.warn(msg, DataConversionWarning)\n",
      "/anaconda3/lib/python3.6/site-packages/sklearn/utils/validation.py:590: DataConversionWarning: Data with input dtype int64 was converted to float64 by StandardScaler.\n",
      "  warnings.warn(msg, DataConversionWarning)\n",
      "/anaconda3/lib/python3.6/site-packages/sklearn/utils/validation.py:590: DataConversionWarning: Data with input dtype int64 was converted to float64 by StandardScaler.\n",
      "  warnings.warn(msg, DataConversionWarning)\n",
      "/anaconda3/lib/python3.6/site-packages/sklearn/utils/validation.py:590: DataConversionWarning: Data with input dtype int64 was converted to float64 by StandardScaler.\n",
      "  warnings.warn(msg, DataConversionWarning)\n",
      "/anaconda3/lib/python3.6/site-packages/sklearn/utils/validation.py:590: DataConversionWarning: Data with input dtype int64 was converted to float64 by StandardScaler.\n",
      "  warnings.warn(msg, DataConversionWarning)\n",
      "/anaconda3/lib/python3.6/site-packages/sklearn/utils/validation.py:590: DataConversionWarning: Data with input dtype int64 was converted to float64 by StandardScaler.\n",
      "  warnings.warn(msg, DataConversionWarning)\n"
     ]
    },
    {
     "name": "stdout",
     "output_type": "stream",
     "text": [
      "truePos= 14\n",
      "trueNeg= 5\n",
      "falsePos= 1\n",
      "falseNeg= 4\n",
      "ignored= 14\n",
      "accuracy= 0.7777777777777778\n"
     ]
    },
    {
     "name": "stderr",
     "output_type": "stream",
     "text": [
      "/anaconda3/lib/python3.6/site-packages/sklearn/utils/validation.py:590: DataConversionWarning: Data with input dtype int64 was converted to float64 by StandardScaler.\n",
      "  warnings.warn(msg, DataConversionWarning)\n",
      "/anaconda3/lib/python3.6/site-packages/sklearn/utils/validation.py:590: DataConversionWarning: Data with input dtype int64 was converted to float64 by StandardScaler.\n",
      "  warnings.warn(msg, DataConversionWarning)\n",
      "/anaconda3/lib/python3.6/site-packages/sklearn/utils/validation.py:590: DataConversionWarning: Data with input dtype int64 was converted to float64 by StandardScaler.\n",
      "  warnings.warn(msg, DataConversionWarning)\n",
      "/anaconda3/lib/python3.6/site-packages/sklearn/utils/validation.py:590: DataConversionWarning: Data with input dtype int64 was converted to float64 by StandardScaler.\n",
      "  warnings.warn(msg, DataConversionWarning)\n",
      "/anaconda3/lib/python3.6/site-packages/sklearn/utils/validation.py:590: DataConversionWarning: Data with input dtype int64 was converted to float64 by StandardScaler.\n",
      "  warnings.warn(msg, DataConversionWarning)\n"
     ]
    }
   ],
   "source": [
    "errorMargin = 0.10\n",
    "ignored = 0\n",
    "truePos = 0\n",
    "trueNeg = 0\n",
    "falsePos = 0\n",
    "falseNeg = 0\n",
    "for index, row in dataTest.iterrows():\n",
    "    text = row['text']\n",
    "    headline= row['title']\n",
    "    numAuthors = len(row['authors'])\n",
    "    source = row['source']\n",
    "    party = \"\"\n",
    "    if 'party' in dataTest.columns:\n",
    "        party = row['party']\n",
    "    pred = isFakeNews(text, headline, numAuthors, source, party)\n",
    "\n",
    "    if (abs(0.5 - pred) < errorMargin):\n",
    "        ignored += 1\n",
    "    elif ((row['veracity'] == 1) &  (pred < 0.5) ):\n",
    "        truePos += 1\n",
    "    elif ((row['veracity'] == 0) & (pred >= 0.5) ):\n",
    "        trueNeg += 1\n",
    "    elif ((row['veracity'] == 1) &  (pred >= 0.5) ):\n",
    "        falsePos += 1            \n",
    "    elif ((row['veracity'] == 0) &  (pred < 0.5) ):\n",
    "        falseNeg += 1\n",
    "\n",
    "        \n",
    "print(\"truePos=\", truePos)\n",
    "print(\"trueNeg=\", trueNeg)\n",
    "print(\"falsePos=\", falsePos)\n",
    "print(\"falseNeg=\", falseNeg)\n",
    "print(\"ignored=\", ignored)\n",
    "print(\"accuracy=\", (truePos/(truePos+falseNeg)))"
   ]
  }
 ],
 "metadata": {
  "kernelspec": {
   "display_name": "Python 3",
   "language": "python",
   "name": "python3"
  },
  "language_info": {
   "codemirror_mode": {
    "name": "ipython",
    "version": 3
   },
   "file_extension": ".py",
   "mimetype": "text/x-python",
   "name": "python",
   "nbconvert_exporter": "python",
   "pygments_lexer": "ipython3",
   "version": "3.6.5"
  }
 },
 "nbformat": 4,
 "nbformat_minor": 2
}
