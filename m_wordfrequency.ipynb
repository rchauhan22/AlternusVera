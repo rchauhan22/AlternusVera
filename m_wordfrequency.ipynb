{
 "cells": [
  {
   "cell_type": "code",
   "execution_count": 1,
   "metadata": {},
   "outputs": [
    {
     "name": "stdout",
     "output_type": "stream",
     "text": [
      "Word Frequency Model Trained - accuracy:   0.599053\n"
     ]
    },
    {
     "data": {
      "text/plain": [
       "(True, 0.48952961087784364)"
      ]
     },
     "execution_count": 1,
     "metadata": {},
     "output_type": "execute_result"
    }
   ],
   "source": [
    "import pandas as pd\n",
    "from sklearn.pipeline import Pipeline\n",
    "from sklearn.linear_model import  LogisticRegression\n",
    "from sklearn.feature_extraction.text import TfidfVectorizer\n",
    "from nltk.stem.porter import *\n",
    "from sklearn import metrics\n",
    "\n",
    "class WordFrequency():\n",
    "\n",
    "    def __init__(self):        \n",
    "\n",
    "        columnNames = [\"id\", \"label\", \"statement\", \"subject\", \"speaker\", \"speaker_job_title\", \"state_info\", \"party_affiliation\", \"barely_true_counts\", \"false_counts\", \"half_true_counts\", \"mostly_true_counts\", \"pants_on_fire_counts\", \"context\"]\n",
    "        dataTrain = pd.read_csv('data/liar-train.tsv', sep='\\t', header=None, names = columnNames)\n",
    "        dataValidate = pd.read_csv('data/liar-valid.tsv', sep='\\t', header=None, names = columnNames)\n",
    "        dataTest = pd.read_csv('data/liar-test.tsv', sep='\\t', header=None, names = columnNames)\n",
    "        \n",
    "        #dropping columns\n",
    "        columnsToRemove = ['id','subject', 'speaker', 'context','speaker_job_title', 'state_info', 'party_affiliation', 'barely_true_counts', 'false_counts', 'half_true_counts', 'mostly_true_counts', 'pants_on_fire_counts']\n",
    "        dataTrain = dataTrain.drop(columns=columnsToRemove)\n",
    "        dataValidate = dataValidate.drop(columns=columnsToRemove)\n",
    "        dataTest = dataTest.drop(columns=columnsToRemove)\n",
    "\n",
    "        def convertMulticlassToBinaryclass(r):\n",
    "            v = r['label']\n",
    "            if (v == 'true'):\n",
    "                return 'true'\n",
    "            if (v == 'mostly-true'):\n",
    "                return 'true'\n",
    "            if (v == 'half-true'):\n",
    "                return 'true'\n",
    "            if (v == 'barely-true'):\n",
    "                return 'false'\n",
    "            if (v == 'false'):\n",
    "                return 'false'\n",
    "            if (v == 'pants-fire'):\n",
    "                return 'false'\n",
    "        dataTrain['label'] = dataTrain.apply(convertMulticlassToBinaryclass, axis=1)\n",
    "        dataValidate['label'] = dataValidate.apply(convertMulticlassToBinaryclass, axis=1)\n",
    "        dataTest['label'] = dataTest.apply(convertMulticlassToBinaryclass, axis=1)\n",
    "        \n",
    "\n",
    "    \n",
    "        tfidfV = TfidfVectorizer(stop_words='english', min_df=5, max_df=30, use_idf=True, smooth_idf=True, token_pattern=u'(?ui)\\\\b\\\\w*[a-z]+\\\\w*\\\\b')\n",
    "        train_tfidf = tfidfV.fit_transform(dataTrain['statement'].values)\n",
    "        test_tfidf = tfidfV.fit_transform(dataTest['statement'].values)\n",
    "\n",
    "#         print('TF-IDF VECTORIZER')\n",
    "\n",
    "        ## Removing plurals for the tokens using PorterStemmer\n",
    "        stemmer = PorterStemmer()\n",
    "        tfidfVPlurals= tfidfV.get_feature_names()\n",
    "        tfidfVSingles= [stemmer.stem(plural) for plural in tfidfVPlurals]\n",
    "\n",
    "        # Applying Set to remove duplicates\n",
    "        tfidfVTokens = list(set(tfidfVSingles))\n",
    "#         print('TFIDFV Tokens')\n",
    "#         print(tfidfVTokens)\n",
    "\n",
    "        self.logR_pipeline = Pipeline([\n",
    "                ('LogRCV', tfidfV),\n",
    "                ('LogR_clf',LogisticRegression(solver='liblinear', C=32/100))\n",
    "                ])\n",
    "\n",
    "        self.logR_pipeline.fit(dataTrain['statement'],dataTrain['label'])\n",
    "        predicted_LogR = self.logR_pipeline.predict(dataTest['statement'])\n",
    "        score = metrics.accuracy_score(dataTest['label'], predicted_LogR)\n",
    "        print(\"Word Frequency Model Trained - accuracy:   %0.6f\" % score)\n",
    "        \n",
    "\n",
    "    def predict(self, text):\n",
    "        predicted = self.logR_pipeline.predict([text])\n",
    "        predicedProb = self.logR_pipeline.predict_proba([text])[:,1]\n",
    "        return bool(predicted), float(predicedProb)\n",
    "    \n",
    "    \n",
    "# wf = WordFrequency()\n",
    "# wf.predict(\"Says the Annies List political group supports third-trimester abortions on demand.\")"
   ]
  },
  {
   "cell_type": "code",
   "execution_count": null,
   "metadata": {},
   "outputs": [],
   "source": []
  }
 ],
 "metadata": {
  "kernelspec": {
   "display_name": "Python 3",
   "language": "python",
   "name": "python3"
  },
  "language_info": {
   "codemirror_mode": {
    "name": "ipython",
    "version": 3
   },
   "file_extension": ".py",
   "mimetype": "text/x-python",
   "name": "python",
   "nbconvert_exporter": "python",
   "pygments_lexer": "ipython3",
   "version": "3.6.5"
  }
 },
 "nbformat": 4,
 "nbformat_minor": 2
}
